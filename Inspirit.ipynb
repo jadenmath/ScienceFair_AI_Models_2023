{
 "cells": [
  {
   "cell_type": "markdown",
   "metadata": {
    "id": "TiM6gYg0nhkY"
   },
  
  },
  {
   "cell_type": "code",
   "execution_count": null,
   "metadata": {
    "cellView": "form",
    "colab": {
     "base_uri": "https://localhost:8080/"
    },
    "id": "H1K_OUCXfPzH",
    "outputId": "d4c697a1-c744-4841-cb46-4a5667d2fa52"
   },
   "outputs": [
    {
     "name": "stdout",
     "output_type": "stream",
     "text": [
      "./ferdata.csv       100%[===================>] 159.97M  88.7MB/s    in 1.8s    \n",
      "./shape_predictor_6 100%[===================>]  95.08M  60.7MB/s    in 1.6s    \n",
      "./pureX.npy         100%[===================>]  43.95M  81.6MB/s    in 0.5s    \n",
      "./dataX.npy         100%[===================>] 347.59M  96.3MB/s    in 3.7s    \n",
      "./dataY.npy         100%[===================>] 156.38K  --.-KB/s    in 0.003s  \n",
      "Data Downloaded!\n"
     ]
    }
   ],
   "source": [
    "#@title Run this to download the data and setup our environment\n",
    "import cv2\n",
    "import dlib\n",
    "import gdown\n",
    "import pickle\n",
    "import warnings\n",
    "import itertools\n",
    "\n",
    "import numpy as np\n",
    "import pandas as pd\n",
    "import seaborn as sns\n",
    "\n",
    "import urllib.request\n",
    "\n",
    "from sklearn import metrics\n",
    "\n",
    "\n",
    "from scipy.spatial import distance\n",
    "from matplotlib import pyplot as plt\n",
    "from sklearn.decomposition import PCA\n",
    "from sklearn.preprocessing import StandardScaler\n",
    "from sklearn.linear_model import LogisticRegression\n",
    "from sklearn.tree import DecisionTreeClassifier \n",
    "from sklearn.neighbors import KNeighborsClassifier\n",
    "from sklearn.model_selection import train_test_split\n",
    "\n",
    "warnings.filterwarnings(\"ignore\")\n",
    "\n",
    "###Getting the csv data loaded\n",
    "!wget -q --show-progress -O ./ferdata.csv \"https://storage.googleapis.com/inspirit-ai-data-bucket-1/Data/AI%20Scholars/Sessions%206%20-%2010%20(Projects)/Project%20-%20Emotion%20Detection/fer2013_5.csv\"\n",
    "\n",
    "###Getting the Dlib Shape predictor!\n",
    "!wget -q --show-progress -O ./shape_predictor_68_face_landmarks.dat \"https://storage.googleapis.com/inspirit-ai-data-bucket-1/Data/AI%20Scholars/Sessions%206%20-%2010%20(Projects)/Project%20-%20Emotion%20Detection/shape_predictor_68_face_landmarks.dat\"\n",
    "\n",
    "###Getting the Xpure loaded\n",
    "!wget -q --show-progress -O ./pureX.npy \"https://storage.googleapis.com/inspirit-ai-data-bucket-1/Data/AI%20Scholars/Sessions%206%20-%2010%20(Projects)/Project%20-%20Emotion%20Detection/pureX.npy\"\n",
    "\n",
    "###Getting the Xdata loaded\n",
    "!wget -q --show-progress -O ./dataX.npy \"https://storage.googleapis.com/inspirit-ai-data-bucket-1/Data/AI%20Scholars/Sessions%206%20-%2010%20(Projects)/Project%20-%20Emotion%20Detection/dataX_edited.npy\"\n",
    "\n",
    "###Getting the Ydata loaded\n",
    "!wget -q --show-progress -O ./dataY.npy \"https://storage.googleapis.com/inspirit-ai-data-bucket-1/Data/AI%20Scholars/Sessions%206%20-%2010%20(Projects)/Project%20-%20Emotion%20Detection/dataY.npy\"\n",
    "\n",
    "print (\"Data Downloaded!\")\n"
   ]
  },
  {
   "cell_type": "markdown",
   "metadata": {
    "id": "EIrowe2Atd1W"
   },
   "source": [
    "In this notebook we'll be:\n",
    "1.   Understanding the Feature Generation Process\n",
    "2.   Understanding, Visualizing, and Preparing the Data\n",
    "3.   Applying Machine Learning to Emotion Detection\n",
    "\n"
   ]
  },
  {
   "cell_type": "markdown",
   "metadata": {
    "id": "DtHdXOQqF_kA"
   },
   "source": [
    "#Milestone 1: Understanding Feature Generation Process"
   ]
  },
  {
   "cell_type": "markdown",
   "metadata": {
    "id": "KgB5l___P_Ja"
   },
   "source": [
    "## Instructor-led Discussion: Understanding the significance of Facial landmarks\n"
   ]
  },
  {
   "cell_type": "markdown",
   "metadata": {
    "id": "1b8i6ra4rG1T"
   },
   "source": [
    "Take a look at the images with facial landmarks superimposed over the faces!\n",
    "\n",
    "![alt text](https://upload.wikimedia.org/wikipedia/commons/0/0a/Dlib-face_landmark_detection.jpg)"
   ]
  },
  {
   "cell_type": "markdown",
   "metadata": {
    "id": "xLn2UT8XiF3X"
   },
   "source": [
    "###Exercise 1A(Discussion) | Est Time: | Within a student group"
   ]
  },
  {
   "cell_type": "markdown",
   "metadata": {
    "id": "9mQpj-xyqNJr"
   },
   "source": [
    "#### Comment on positions of Facial Landmarks(FL) based on different emotion images? Can we used euclidean distance to distinguish between emotions?"
   ]
  },
  {
   "cell_type": "markdown",
   "metadata": {
    "id": "Dqw7wKpPSCUR"
   },
   "source": [
    "##Distance between Facial Landmarks\n",
    "\n"
   ]
  },
  {
   "cell_type": "markdown",
   "metadata": {
    "id": "bNftU_43j2AZ"
   },
   "source": [
    "Based on our discussion, we can use the euclidean distances of all facial landmarks with each other and use it as input (X) to our model to predict our emotions (Y)"
   ]
  },
  {
   "cell_type": "markdown",
   "metadata": {
    "id": "VKiMk58TjzKc"
   },
   "source": [
    "###Exercise 1B (Discussion) | Est Time: | Within a student group"
   ]
  },
  {
   "cell_type": "code",
   "execution_count": null,
   "metadata": {
    "colab": {
     "base_uri": "https://localhost:8080/"
    },
    "id": "ex66YDjYjuRN",
    "outputId": "6cbbeb82-0909-40a0-ec43-231098bdb6aa"
   },
   "outputs": [
    {
     "name": "stdout",
     "output_type": "stream",
     "text": [
      "Yes! 68 * 68 = 4624.\n",
      "Thats Right! If we exclude the distance of points with itself and repeats, we will have 67+66+65+...+1 = 2278 distance values\n"
     ]
    }
   ],
   "source": [
    "#@title Q1: Number of distance values after computing euclidean distances among facial landmarks? Q2: Number of distance values after computing euclidean distances (exclusive of distances of facial landmarks points with itself and repeats)? { display-mode: \"form\" }\n",
    "\n",
    "Q1 = \"4624\" #@param [\"2278\",\"4556\",\"4624\",\"68\",\"Fill Me In\"] \n",
    "\n",
    "Q2 = \"2278\" #@param [\"2278\",\"4556\",\"4624\",\"68\",\"Fill Me In\"] \n",
    "\n",
    "if Q1 == '4624': \n",
    "  print('Yes! 68 * 68 = 4624.') \n",
    "else: \n",
    "  print('Try Again')\n",
    "\n",
    "if Q2 == \"2278\": \n",
    "  print(\"Thats Right! If we exclude the distance of points with itself and repeats, we will have 67+66+65+...+1 = 2278 distance values\")\n",
    "else: \n",
    "  print('Try again!')"
   ]
  },
  {
   "cell_type": "markdown",
   "metadata": {
    "id": "UiQPTFiMG-Ly"
   },
   "source": [
    "###Exercise Takeaways!\n",
    "\n"
   ]
  },
  {
   "cell_type": "markdown",
   "metadata": {
    "id": "xNRbQK8A25Zu"
   },
   "source": [
    "Facial landmark distances can be used as features (X) into a model where the outputs (Y) are emotions"
   ]
  },
  {
   "cell_type": "markdown",
   "metadata": {
    "id": "_TxlMtSqDMMw"
   },
   "source": [
    "## Instructor-led Discussion: Emotion Detection Pipeline"
   ]
  },
  {
   "cell_type": "markdown",
   "metadata": {
    "id": "yOrucHQ3mFQv"
   },
   "source": [
    "The three main components of Emotion Detection are as follows:\n",
    "\n",
    "\n",
    "1.   Image Preprocessing\n",
    "2.   Feature Extraction\n",
    "3.   Feature Classification\n",
    "\n"
   ]
  },
  {
   "cell_type": "markdown",
   "metadata": {
    "id": "MTquSms-HhMX"
   },
   "source": [
    "# Milestone 2: Understand,Visualize and Prepare the Data"
   ]
  },
  {
   "cell_type": "markdown",
   "metadata": {
    "id": "ml8XwGzOVvWX"
   },
   "source": [
    "### Dataset Background"
   ]
  },
  {
   "cell_type": "markdown",
   "metadata": {
    "id": "kPAqGjslU4T2"
   },
   "source": [
    "We will use modified version of the fer2013 dataset consisting of five emotion labels. \n",
    "\n",
    "The dataset is stored in a csvfile. Each row in the csvfile denotes an instance. \n",
    "Every instance has two column attributes : \n",
    "\n",
    "*   Pixels of the image stored in string format \n",
    "*   Integer encoding of the target label\n",
    "\n",
    "There are total of 20,000 images distributed equally across the five emotions. The images are 48\\*48 grayscale cropped images. The csvfile consists of flattened array of the image stored in form of a string\n",
    "\n",
    "The target labels are integer encoded in the csvfile.They are mapped as follows:\n",
    "\n",
    "*   0 ---> Angry\n",
    "*   1 ---> Happy\n",
    "*   2 ---> Sad\n",
    "*   3 ---> Surprise\n",
    "*   4 ---> Neutral\n",
    "\n"
   ]
  },
  {
   "cell_type": "markdown",
   "metadata": {
    "id": "kbQ9sErcYPil"
   },
   "source": [
    "### Load the dataset "
   ]
  },
  {
   "cell_type": "code",
   "execution_count": null,
   "metadata": {
    "colab": {
     "base_uri": "https://localhost:8080/",
     "height": 206
    },
    "id": "0bg16jaZu7vF",
    "outputId": "1de60de9-fade-4c38-bdb8-6d384a34faf4"
   },
   "outputs": [
    {
     "data": {
      "text/html": [
       "\n",
       "  <div id=\"df-52e05f2b-100a-453b-b44b-865ecc0e3ef8\">\n",
       "    <div class=\"colab-df-container\">\n",
       "      <div>\n",
       "<style scoped>\n",
       "    .dataframe tbody tr th:only-of-type {\n",
       "        vertical-align: middle;\n",
       "    }\n",
       "\n",
       "    .dataframe tbody tr th {\n",
       "        vertical-align: top;\n",
       "    }\n",
       "\n",
       "    .dataframe thead th {\n",
       "        text-align: right;\n",
       "    }\n",
       "</style>\n",
       "<table border=\"1\" class=\"dataframe\">\n",
       "  <thead>\n",
       "    <tr style=\"text-align: right;\">\n",
       "      <th></th>\n",
       "      <th>emotion</th>\n",
       "      <th>pixels</th>\n",
       "      <th>Usage</th>\n",
       "    </tr>\n",
       "  </thead>\n",
       "  <tbody>\n",
       "    <tr>\n",
       "      <th>0</th>\n",
       "      <td>0</td>\n",
       "      <td>215 216 215 215 215 216 216 216 214 178 81 30 ...</td>\n",
       "      <td>Training</td>\n",
       "    </tr>\n",
       "    <tr>\n",
       "      <th>1</th>\n",
       "      <td>4</td>\n",
       "      <td>244 244 244 244 243 244 242 190 132 93 81 73 7...</td>\n",
       "      <td>Training</td>\n",
       "    </tr>\n",
       "    <tr>\n",
       "      <th>2</th>\n",
       "      <td>4</td>\n",
       "      <td>255 255 255 255 255 255 255 255 255 255 255 25...</td>\n",
       "      <td>Training</td>\n",
       "    </tr>\n",
       "    <tr>\n",
       "      <th>3</th>\n",
       "      <td>4</td>\n",
       "      <td>38 56 60 52 58 65 53 44 35 48 59 60 36 30 21 3...</td>\n",
       "      <td>Training</td>\n",
       "    </tr>\n",
       "    <tr>\n",
       "      <th>4</th>\n",
       "      <td>4</td>\n",
       "      <td>77 40 27 21 22 25 20 31 27 17 27 42 47 55 51 4...</td>\n",
       "      <td>Training</td>\n",
       "    </tr>\n",
       "  </tbody>\n",
       "</table>\n",
       "</div>\n",
       "      <button class=\"colab-df-convert\" onclick=\"convertToInteractive('df-52e05f2b-100a-453b-b44b-865ecc0e3ef8')\"\n",
       "              title=\"Convert this dataframe to an interactive table.\"\n",
       "              style=\"display:none;\">\n",
       "        \n",
       "  <svg xmlns=\"http://www.w3.org/2000/svg\" height=\"24px\"viewBox=\"0 0 24 24\"\n",
       "       width=\"24px\">\n",
       "    <path d=\"M0 0h24v24H0V0z\" fill=\"none\"/>\n",
       "    <path d=\"M18.56 5.44l.94 2.06.94-2.06 2.06-.94-2.06-.94-.94-2.06-.94 2.06-2.06.94zm-11 1L8.5 8.5l.94-2.06 2.06-.94-2.06-.94L8.5 2.5l-.94 2.06-2.06.94zm10 10l.94 2.06.94-2.06 2.06-.94-2.06-.94-.94-2.06-.94 2.06-2.06.94z\"/><path d=\"M17.41 7.96l-1.37-1.37c-.4-.4-.92-.59-1.43-.59-.52 0-1.04.2-1.43.59L10.3 9.45l-7.72 7.72c-.78.78-.78 2.05 0 2.83L4 21.41c.39.39.9.59 1.41.59.51 0 1.02-.2 1.41-.59l7.78-7.78 2.81-2.81c.8-.78.8-2.07 0-2.86zM5.41 20L4 18.59l7.72-7.72 1.47 1.35L5.41 20z\"/>\n",
       "  </svg>\n",
       "      </button>\n",
       "      \n",
       "  <style>\n",
       "    .colab-df-container {\n",
       "      display:flex;\n",
       "      flex-wrap:wrap;\n",
       "      gap: 12px;\n",
       "    }\n",
       "\n",
       "    .colab-df-convert {\n",
       "      background-color: #E8F0FE;\n",
       "      border: none;\n",
       "      border-radius: 50%;\n",
       "      cursor: pointer;\n",
       "      display: none;\n",
       "      fill: #1967D2;\n",
       "      height: 32px;\n",
       "      padding: 0 0 0 0;\n",
       "      width: 32px;\n",
       "    }\n",
       "\n",
       "    .colab-df-convert:hover {\n",
       "      background-color: #E2EBFA;\n",
       "      box-shadow: 0px 1px 2px rgba(60, 64, 67, 0.3), 0px 1px 3px 1px rgba(60, 64, 67, 0.15);\n",
       "      fill: #174EA6;\n",
       "    }\n",
       "\n",
       "    [theme=dark] .colab-df-convert {\n",
       "      background-color: #3B4455;\n",
       "      fill: #D2E3FC;\n",
       "    }\n",
       "\n",
       "    [theme=dark] .colab-df-convert:hover {\n",
       "      background-color: #434B5C;\n",
       "      box-shadow: 0px 1px 3px 1px rgba(0, 0, 0, 0.15);\n",
       "      filter: drop-shadow(0px 1px 2px rgba(0, 0, 0, 0.3));\n",
       "      fill: #FFFFFF;\n",
       "    }\n",
       "  </style>\n",
       "\n",
       "      <script>\n",
       "        const buttonEl =\n",
       "          document.querySelector('#df-52e05f2b-100a-453b-b44b-865ecc0e3ef8 button.colab-df-convert');\n",
       "        buttonEl.style.display =\n",
       "          google.colab.kernel.accessAllowed ? 'block' : 'none';\n",
       "\n",
       "        async function convertToInteractive(key) {\n",
       "          const element = document.querySelector('#df-52e05f2b-100a-453b-b44b-865ecc0e3ef8');\n",
       "          const dataTable =\n",
       "            await google.colab.kernel.invokeFunction('convertToInteractive',\n",
       "                                                     [key], {});\n",
       "          if (!dataTable) return;\n",
       "\n",
       "          const docLinkHtml = 'Like what you see? Visit the ' +\n",
       "            '<a target=\"_blank\" href=https://colab.research.google.com/notebooks/data_table.ipynb>data table notebook</a>'\n",
       "            + ' to learn more about interactive tables.';\n",
       "          element.innerHTML = '';\n",
       "          dataTable['output_type'] = 'display_data';\n",
       "          await google.colab.output.renderOutput(dataTable, element);\n",
       "          const docLink = document.createElement('div');\n",
       "          docLink.innerHTML = docLinkHtml;\n",
       "          element.appendChild(docLink);\n",
       "        }\n",
       "      </script>\n",
       "    </div>\n",
       "  </div>\n",
       "  "
      ],
      "text/plain": [
       "   emotion                                             pixels     Usage\n",
       "0        0  215 216 215 215 215 216 216 216 214 178 81 30 ...  Training\n",
       "1        4  244 244 244 244 243 244 242 190 132 93 81 73 7...  Training\n",
       "2        4  255 255 255 255 255 255 255 255 255 255 255 25...  Training\n",
       "3        4  38 56 60 52 58 65 53 44 35 48 59 60 36 30 21 3...  Training\n",
       "4        4  77 40 27 21 22 25 20 31 27 17 27 42 47 55 51 4...  Training"
      ]
     },
     "execution_count": 3,
     "metadata": {},
     "output_type": "execute_result"
    }
   ],
   "source": [
    "#Integer to Label Mapping\n",
    "label_map = {0:\"ANGRY\",1:\"HAPPY\",2:\"SAD\",3:\"SURPRISE\",4:\"NEUTRAL\"}\n",
    "\n",
    "#Load the datala\n",
    "df = pd.read_csv(\"./ferdata.csv\")\n",
    "df.head()"
   ]
  },
  {
   "cell_type": "code",
   "execution_count": null,
   "metadata": {
    "colab": {
     "base_uri": "https://localhost:8080/",
     "height": 306
    },
    "id": "emNk3kn7-SWh",
    "outputId": "6a1a88fb-a6b3-40aa-a9bc-81ad381a1b08"
   },
   "outputs": [
    {
     "data": {
      "image/png": "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\n",
      "text/plain": [
       "<Figure size 432x288 with 1 Axes>"
      ]
     },
     "metadata": {
      "needs_background": "light"
     },
     "output_type": "display_data"
    }
   ],
   "source": [
    "# generate x labels for our plot\n",
    "emotion_labels = [label_map[i] for i in label_map.keys()]\n",
    "\n",
    "# generate counts for each emotion type\n",
    "emotion_counts = [np.sum(df[\"emotion\"] == i) for i in range(len(label_map))]\n",
    "\n",
    "# generate a bar plot for our emotion labels that has different colors \n",
    "[plt.bar(x = emotion_labels[i], height = emotion_counts[i] ) for i in range(len(emotion_labels))] \n",
    "\n",
    "# make the plot interpretable with x and y labels + title\n",
    "plt.xlabel('EMOTION LABEL')\n",
    "plt.ylabel('N OBSERVSATIONS')\n",
    "plt.title('A balanced distribution of emotions in our data set', y=1.05); "
   ]
  },
  {
   "cell_type": "markdown",
   "metadata": {
    "id": "0UPLgR0k-fEJ"
   },
   "source": [
    "###Exercise 2A Balanced vs. Unbalanced Datasets"
   ]
  },
  {
   "cell_type": "markdown",
   "metadata": {
    "id": "CG57yqywq1jW"
   },
   "source": [
    "####What would be the implications of an unbalanced dataset?"
   ]
  },
  {
   "cell_type": "markdown",
   "metadata": {
    "id": "KaqNfQF5Y8iM"
   },
   "source": [
    "### Data Visualization"
   ]
  },
  {
   "cell_type": "markdown",
   "metadata": {
    "id": "1BbN1EO_-VMc"
   },
   "source": [
    "In this section, we will convert the flattened pixel arrays to 2D images, so as to plot facial landmarks over the images"
   ]
  },
  {
   "cell_type": "code",
   "execution_count": null,
   "metadata": {
    "cellView": "form",
    "id": "jTkynlyy75cm"
   },
   "outputs": [],
   "source": [
    "#@title Run this code to setup the extraction of Facial Landmarks\n",
    "\n",
    "# Load's dlib's pretrained face detector model\n",
    "#frontalface_detector = dlib.get_frontal_face_detector()\n",
    "\n",
    "\n",
    "#Load the 68 face Landmark file\n",
    "predictor = dlib.shape_predictor('./shape_predictor_68_face_landmarks.dat')\n",
    "\"\"\"\n",
    "Returns facial landmarks for the given input image path\n",
    "\"\"\"\n",
    "def get_landmarks(image):\n",
    "  \n",
    "  \n",
    "  #:type image : cv2 object\n",
    "  #:rtype landmarks : list of tuples where each tuple represents \n",
    "  #                  the x and y co-ordinates of facial keypoints\n",
    "  \n",
    "  #Bounding Box co-ordinates around the face(Training data is 48*48(cropped faces))\n",
    "  rects = [dlib.rectangle(left=1, top=1, right=47, bottom=47)]\n",
    "\n",
    "  #Read Image using OpenCV\n",
    "  #image = cv2.imread(image_path)\n",
    "  #Detect the Faces within the image\n",
    "  landmarks = [(p.x, p.y) for p in predictor(image, rects[0]).parts()]\n",
    "  return image,landmarks\n",
    "\n",
    "\"\"\"\n",
    "Display image with its Facial Landmarks\n",
    "\"\"\"\n",
    "def plot_image_landmarks(image,face_landmarks):\n",
    "  \"\"\"\n",
    "  :type image_path : str\n",
    "  :type face_landmarks : list of tuples where each tuple represents \n",
    "                     the x and y co-ordinates of facial keypoints\n",
    "  :rtype : None\n",
    "  \"\"\"\n",
    "  radius = -2\n",
    "  circle_thickness = 1\n",
    "  image_copy = image.copy()\n",
    "  for (x, y) in face_landmarks:\n",
    "    cv2.circle(image_copy, (x, y), circle_thickness, (255,0,0), radius)\n",
    "    \n",
    "  plt.imshow(image_copy, interpolation='nearest', cmap='Greys_r')\n",
    "  plt.xticks([]); plt.yticks([])\n",
    "  plt.show()\n",
    "  \n",
    " \n",
    "'''\n",
    "Converts pixels values to 2D-image. \n",
    "Displays the image and returns the cv2 image\n",
    "object\n",
    "'''\n",
    "def get_pixels_image(img_pixels,plt_flag):\n",
    "  \"\"\"\n",
    "  :type image_pixels : str\n",
    "  :type plt_flag : boolean\n",
    "  :rtype image : cv2 object\n",
    "  \"\"\"\n",
    "  \n",
    "  width = 48\n",
    "  height = 48\n",
    "  \n",
    "  image = np.fromstring(img_pixels, dtype=np.uint8, sep=\" \").reshape((height, width))\n",
    "  \n",
    "  if plt_flag:\n",
    "      plt.imshow(image, interpolation='nearest', cmap=\"Greys_r\")\n",
    "      plt.xticks([]); plt.yticks([])\n",
    "      plt.show()\n",
    "      \n",
    "      \n",
    "  return image\n"
   ]
  },
  {
   "cell_type": "markdown",
   "metadata": {
    "id": "fMrrq0fxlBbN"
   },
   "source": [
    "###Lets visualize our datapoints!"
   ]
  },
  {
   "cell_type": "code",
   "execution_count": null,
   "metadata": {
    "colab": {
     "base_uri": "https://localhost:8080/",
     "height": 252
    },
    "id": "E6kqtTORlAZ3",
    "outputId": "1429792c-295a-418a-cca8-1a919850ad30"
   },
   "outputs": [
    {
     "data": {
      "image/png": "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\n",
      "text/plain": [
       "<Figure size 432x288 with 1 Axes>"
      ]
     },
     "metadata": {},
     "output_type": "display_data"
    }
   ],
   "source": [
    "# select random index \n",
    "i_index = np.random.randint(len(df))\n",
    "\n",
    "# extract pixel values \n",
    "image_pixels = df['pixels'][i_index]        \n",
    "\n",
    "# convert pixels to 2D Images\n",
    "image = get_pixels_image(image_pixels, True)"
   ]
  },
  {
   "cell_type": "markdown",
   "metadata": {
    "id": "Z9zFWWIjF_lp"
   },
   "source": [
    "<b>Discuss:</b> What is the label for the face above?"
   ]
  },
  {
   "cell_type": "markdown",
   "metadata": {
    "id": "iEKhOBy1-_aB"
   },
   "source": [
    "####Plot Facial Landmarks on the Datapoints"
   ]
  },
  {
   "cell_type": "code",
   "execution_count": null,
   "metadata": {
    "colab": {
     "base_uri": "https://localhost:8080/",
     "height": 252
    },
    "id": "LLcpEqE_-w-T",
    "outputId": "b45618df-16a5-40ff-f286-27f0638a08ad"
   },
   "outputs": [
    {
     "data": {
      "image/png": "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\n",
      "text/plain": [
       "<Figure size 432x288 with 1 Axes>"
      ]
     },
     "metadata": {},
     "output_type": "display_data"
    }
   ],
   "source": [
    "#Extract the Facial Landmarks\n",
    "image,facial_landmarks = get_landmarks(image)\n",
    "\n",
    "#Display the Facial Landmarks on the Image\n",
    "plot_image_landmarks(image,facial_landmarks)"
   ]
  },
  {
   "cell_type": "markdown",
   "metadata": {
    "id": "27HUOaMqagU7"
   },
   "source": [
    "###Extract the features and save the data"
   ]
  },
  {
   "cell_type": "markdown",
   "metadata": {
    "id": "uh4mN71xbyvO"
   },
   "source": [
    " We'll need to create X and Y arrays for our model:\n",
    " \n",
    "      X is a list of lists, where each element in X represents a single picture\n",
    "                            where a picture is represented by a list distances \n",
    "                            between facial landmark points\n",
    "\n",
    "      Y is a list of numbers, where each element in Y represents the emotion \n",
    "                              for the corresponding picture\n",
    "\n",
    "      X_pixels is a list of lists, where each element in X_pixels represents a single \n",
    "                           picture where a picture is represented by its pixels \n",
    "\n",
    " X and Y must be ordered in the same way so that X[0] and Y[0] refer to the \n",
    " first picture, X[1] and Y[1] refer to the second picture, and so on.\n",
    "\n",
    " "
   ]
  },
  {
   "cell_type": "markdown",
   "metadata": {
    "id": "GiBA4Uz1ZjOb"
   },
   "source": [
    "###Euclidean Distance between Facial Landmarks"
   ]
  },
  {
   "cell_type": "markdown",
   "metadata": {
    "id": "dY7dapj_H8WK"
   },
   "source": [
    "In this section we want to compute the euclidean distances between all 68 Facial Landmark points, excluding the distances of the points with themselves. \n",
    "\n",
    "We can get all the pairs of indices up to 4 using the `itertools` library. Try it out!"
   ]
  },
  {
   "cell_type": "code",
   "execution_count": null,
   "metadata": {
    "colab": {
     "base_uri": "https://localhost:8080/"
    },
    "id": "To9kDuP0IXsV",
    "outputId": "d6f7f3c4-a666-430e-bfe0-c5973ab6f786"
   },
   "outputs": [
    {
     "name": "stdout",
     "output_type": "stream",
     "text": [
      "0 1\n",
      "0 2\n",
      "0 3\n",
      "1 2\n",
      "1 3\n",
      "2 3\n"
     ]
    }
   ],
   "source": [
    "for i, j in itertools.combinations(range(4), 2):\n",
    "  print(i, j)"
   ]
  },
  {
   "cell_type": "markdown",
   "metadata": {
    "id": "vA6Ple1HIcwT"
   },
   "source": [
    "The 4 determines the number of indices, and the 2 says we're interested in combinations of size 2. (try changing 2 to three and see what happens if you're curious!). \n",
    "\n",
    "Notice how pairs with the same numbers are skipped (i.e. 0 0 is skipped) and that for each pair only one ordering of that pair is used (i.e. we have 0 2 but not 2 0)! "
   ]
  },
  {
   "cell_type": "markdown",
   "metadata": {
    "id": "DZkElB0PATtd"
   },
   "source": [
    "####Exercise(Coding)\n",
    "\n",
    "Use this special for loop to help us compute the euclidean distances for each pair of Facial Landmark points. Store all the distances in the list `e_dist`\n",
    "\n",
    "Hint: Instead of having indicies that go up to 4, we want to have indices that go up to the number of facial landmarks we have!"
   ]
  },
  {
   "cell_type": "code",
   "execution_count": null,
   "metadata": {
    "cellView": "form",
    "id": "EPLlP2y9ZvTg"
   },
   "outputs": [],
   "source": [
    "#@title Instructor Solution\n",
    "def get_all_landmarks_euclid_dist(face_landmarks):\n",
    "  \n",
    "    e_dist = []\n",
    "    for i, j in itertools.combinations(range(68), 2):\n",
    "      e_dist.append(distance.euclidean(face_landmarks[i], face_landmarks[j]))\n",
    "    \n",
    "    return e_dist"
   ]
  },
  {
   "cell_type": "code",
   "execution_count": null,
   "metadata": {
    "cellView": "form",
    "id": "Im_3G3gtaqsK"
   },
   "outputs": [],
   "source": [
    "#@title Function that preprocesses the data to extract distances between all points\n",
    "\n",
    "def preprocess_data(df):\n",
    "  \n",
    "  X = []\n",
    "  Y = []\n",
    "  X_pixels = []\n",
    "  \n",
    "  n_pixels = 2304\n",
    "  \n",
    "  for index, row in (df.iterrows()):\n",
    "\n",
    "      if index%1000 == 0:\n",
    "        print (index, \"Datapoints Processed\")\n",
    "        \n",
    "      try:\n",
    "          image = get_pixels_image(row['pixels'],0)\n",
    "          X_pixels.append(image.ravel()) \n",
    "          image = cv2.GaussianBlur(image,(5,5),0)\n",
    "         \n",
    "          _,face_landmarks = get_landmarks(image)\n",
    "          X.append(get_all_landmarks_euclid_dist(face_landmarks)) # Using our feature function!\n",
    "          Y.append(row['emotion'])\n",
    "\n",
    "      except Exception as e:\n",
    "          print (\"An error occured:\",e)\n",
    "\n",
    "  #Save the data \n",
    "  np.save(\"pureX\", X_pixels)\n",
    "  np.save(\"dataX\", X)\n",
    "  np.save(\"dataY\", Y)\n",
    "  \n",
    "  return np.array(X_pixels),np.array(X),np.array(Y) "
   ]
  },
  {
   "cell_type": "markdown",
   "metadata": {
    "id": "5tMU3NCZcpcF"
   },
   "source": [
    "###Load the Saved Data"
   ]
  },
  {
   "cell_type": "code",
   "execution_count": null,
   "metadata": {
    "id": "cypubed0HIBt"
   },
   "outputs": [],
   "source": [
    "# set to True if we want to preload data -- which has already been generated for us :) \n",
    "preload = True \n",
    "\n",
    "if preload: \n",
    "\n",
    "  # load outputs saved in this folder after running preprocess_data() \n",
    "  dataX = np.load('./dataX.npy')\n",
    "  dataY = np.load('./dataY.npy', allow_pickle=True)\n",
    "  \n",
    "else: \n",
    "  \n",
    "  # this takes 15-20 minutes to run, but someone has already run it and saved the ouputs in this folder\n",
    "  pureX, dataX, dataY = preprocess_data(df)"
   ]
  },
  {
   "cell_type": "markdown",
   "metadata": {
    "id": "243exuhMd38d"
   },
   "source": [
    "###Split the data\n",
    "\n"
   ]
  },
  {
   "cell_type": "markdown",
   "metadata": {
    "id": "cNWZEOrJDVpF"
   },
   "source": [
    "We split our data into different 'sets' that each will work differently with our machine learning model.\n",
    "\n",
    "Think of our AI as a machine learning 'student'.\n",
    "\n",
    "**Training Set**: Our training set is like a training manual. Our algorithm will read, or 'train', on this over and over again to try and learn its task.\n",
    "\n",
    "**Test Set**: Our test set is like a test. It is testing our model on problems that it has not seen before.\n",
    "\n",
    "We usually have a much larger training manual than our test. Let's see if this is the case with our data!"
   ]
  },
  {
   "cell_type": "code",
   "execution_count": null,
   "metadata": {
    "id": "3cAC2tMjwK34"
   },
   "outputs": [],
   "source": [
    "#Split Data into Train, Test (90-10)\n",
    "X_train, X_test, y_train, y_test = train_test_split(dataX, dataY, test_size=0.1, random_state=42,stratify =dataY)"
   ]
  },
  {
   "cell_type": "code",
   "execution_count": null,
   "metadata": {
    "colab": {
     "base_uri": "https://localhost:8080/"
    },
    "id": "R-y3gscsW3IC",
    "outputId": "80d42d37-b0e6-43a3-f548-375c78334d0f"
   },
   "outputs": [
    {
     "data": {
      "text/plain": [
       "0.493"
      ]
     },
     "execution_count": 14,
     "metadata": {},
     "output_type": "execute_result"
    }
   ],
   "source": [
    "from sklearn.linear_model import LogisticRegression\n",
    "model = LogisticRegression()\n",
    "model.fit(X_train,y_train)\n",
    "model.score(X_test,y_test)"
   ]
  },
  {
   "cell_type": "markdown",
   "metadata": {
    "id": "jFES356Ndp6U"
   },
   "source": [
    "### Instructor-led Discussion: Standardization of Data"
   ]
  },
  {
   "cell_type": "markdown",
   "metadata": {
    "id": "pbtM9MnxBozT"
   },
   "source": [
    "Standardization is the process of putting different variables on the same scale. It is a transformation that centers the data by removing the mean value of each feature and then scale it by dividing (non-constant) features by their standard deviation.\n",
    "\n",
    "After standardizing data the mean will be zero and the standard deviation one.\n",
    "\n",
    "We can use sklearn's inbuilt function which will help us to standardize our train data:\n",
    "* `StandardScaler()`"
   ]
  },
  {
   "cell_type": "code",
   "execution_count": null,
   "metadata": {
    "id": "ctD2nHn1wKFA"
   },
   "outputs": [],
   "source": [
    "####Standardize the data####################\n",
    "###Note: Do not use test data to fit your Standardscaler Model\n",
    "scaler = StandardScaler()\n",
    "scaler.fit(X_train)\n",
    "X_train = scaler.transform(X_train)\n",
    "X_test = scaler.transform(X_test)"
   ]
  },
  {
   "cell_type": "code",
   "execution_count": null,
   "metadata": {
    "colab": {
     "base_uri": "https://localhost:8080/"
    },
    "id": "BgzUfFcdPIkr",
    "outputId": "3eb443aa-5599-4193-dc52-3b4984f80d50"
   },
   "outputs": [
    {
     "data": {
      "text/plain": [
       "(18000, 2278)"
      ]
     },
     "execution_count": 16,
     "metadata": {},
     "output_type": "execute_result"
    }
   ],
   "source": [
    "X_train.shape"
   ]
  },
  {
   "cell_type": "markdown",
   "metadata": {
    "id": "R7GpTLtCUd9c"
   },
   "source": [
    "### Instructor-led Discussion: Dimensionality Reduction"
   ]
  },
  {
   "cell_type": "markdown",
   "metadata": {
    "id": "1ZLbw8c1VRik"
   },
   "source": [
    "Dimensionality reduction helps us find a low-dimensional representation of the data that retains as much information as possible.\n",
    "\n",
    "Principal Component Analysis (PCA) is one such technique. PCA is a technique used to emphasize variation and bring out strong patterns in a dataset. \n",
    "\n"
   ]
  },
  {
   "cell_type": "code",
   "execution_count": null,
   "metadata": {
    "id": "cVKY8f_V5_1C"
   },
   "outputs": [],
   "source": [
    "#Reduces features by maintaining 95% variance of the data\n",
    "#After doing PCA on our training data, 2278 Dimensions --->reduced to 20\n",
    "#Note: PCA is trained only on training data \n",
    "pca = PCA(.95)\n",
    "pca.fit(X_train)\n",
    "\n",
    "X_train = pca.transform(X_train)\n",
    "X_test= pca.transform(X_test)"
   ]
  },
  {
   "cell_type": "code",
   "execution_count": null,
   "metadata": {
    "colab": {
     "base_uri": "https://localhost:8080/"
    },
    "id": "t3fh0Q8CPGeJ",
    "outputId": "2e775ad2-62bc-4675-ae4e-c46bbf591094"
   },
   "outputs": [
    {
     "data": {
      "text/plain": [
       "(18000, 20)"
      ]
     },
     "execution_count": 18,
     "metadata": {},
     "output_type": "execute_result"
    }
   ],
   "source": [
    "X_train.shape"
   ]
  },
  {
   "cell_type": "markdown",
   "metadata": {
    "id": "SV0jORxMH3w1"
   },
   "source": [
    "#Milestone 3 : Applying Machine Learning to Emotion Detection"
   ]
  },
  {
   "cell_type": "markdown",
   "metadata": {
    "id": "rx3TiV9KJSSl"
   },
   "source": [
    "##Activity 3a. Defining our machine learning problem"
   ]
  },
  {
   "cell_type": "markdown",
   "metadata": {
    "id": "mRmAsd_WJX7C"
   },
   "source": [
    "Before we build our model, we have to identify what kind of problem it will solve and what data it's going to use. "
   ]
  },
  {
   "cell_type": "markdown",
   "metadata": {
    "id": "xNxpdkT_JZF3"
   },
   "source": [
    "### Instructor-led Discussion: Machine Learning for Emotion Detection?\n"
   ]
  },
  {
   "cell_type": "markdown",
   "metadata": {
    "id": "e6PKSHcpJisw"
   },
   "source": [
    "What WILL our model look like? Remember, in machine learning, we always identify inputs and outputs. Our goal is to predict outputs from inputs with either classification or regression.\n",
    "\n",
    "In classification, our output is a category (like dogs or cats).\n",
    "\n",
    "In regression, our output is a value (like 0, 0.1, 0.3, 100, ...)."
   ]
  },
  {
   "cell_type": "code",
   "execution_count": null,
   "metadata": {
    "colab": {
     "base_uri": "https://localhost:8080/"
    },
    "id": "049tc1P6JslF",
    "outputId": "c6858214-237c-4ce7-dc90-f978826ff563"
   },
   "outputs": [
    {
     "name": "stdout",
     "output_type": "stream",
     "text": [
      "Yes, our inputs are our distance between facial landmarks!\n",
      "Yes, our outputs are integer encoded emotions!\n",
      "We are trying to predict labels, therefore this is classification!\n"
     ]
    }
   ],
   "source": [
    "#@title How will our model operate? { display-mode: \"form\" }\n",
    "\n",
    "#@markdown What are our inputs? \n",
    "inputs = \"distances between facial landmarks\" #@param [\"images\", \"facial landmarks\", \"distances between facial landmarks\", \"Fill Me In\"]\n",
    "\n",
    "#@markdown What are our outputs? \n",
    "outputs = \"integer encoded emotions\" #@param [\"integer encoded emotions\", \"images\", \"image edges\", \"Fill Me In\"]\n",
    "\n",
    "#@markdown What kind of problem will our AI model solve? \n",
    "problem_type  = \"classification\" #@param [\"classification\", \"regression\",\"Fill Me In\"]\n",
    "\n",
    "\n",
    "if inputs == \"distances between facial landmarks\":\n",
    "  print(\"Yes, our inputs are our distance between facial landmarks!\")\n",
    "else:\n",
    "  print('Not quite our inputs.')\n",
    "\n",
    "if outputs == \"integer encoded emotions\":\n",
    "  print(\"Yes, our outputs are integer encoded emotions!\")\n",
    "else:\n",
    "  print('Not quite our outputs.')\n",
    "  \n",
    "if problem_type == \"classification\":\n",
    "  print(\"We are trying to predict labels, therefore this is classification!\")\n",
    "else:\n",
    "  print('Not quite our problem!')"
   ]
  },
  {
   "cell_type": "markdown",
   "metadata": {
    "id": "3ZGgfUZNJyTF"
   },
   "source": [
    "## Activity 3b. Building and evaluating models\n",
    "\n",
    "\n",
    "We've tried a the KNN, Logistic Regression,Decision Tree model last week in sklearn. Establish best baseline acccuracy using either of the models today. Below, we list it with the sample parameters:\n",
    "* `knn = KNeighborsClassifier(n_neighbors = 1)`\n",
    "* `lr = LogisticRegression(solver='lbfgs',multi_class='multinomial')`\n",
    "* `dt = DecisionTreeClassifier(max_depth=1)`\n",
    "\n",
    "\n",
    "\n",
    "\n",
    "Test your models with accuracy_score on the test_data, which can be accessed through the X_test variable\n",
    "\n",
    "Try to build the best model that you can! \n",
    "\n",
    "Human accuracy for the fer2013 dataset is 65% +- 5%. Lets try getting as closer as possible!\n",
    "\n"
   ]
  },
  {
   "cell_type": "markdown",
   "metadata": {
    "id": "DqavAnDpKDqE"
   },
   "source": [
    "### Exercise (Coding)     | Est Time | Within a student group\n"
   ]
  },
  {
   "cell_type": "markdown",
   "metadata": {
    "id": "yOiec1fe4G0t"
   },
   "source": [
    "###Train the model"
   ]
  },
  {
   "cell_type": "code",
   "execution_count": null,
   "metadata": {
    "id": "3pCwBkhyKAju"
   },
   "outputs": [],
   "source": [
    "### YOUR CODE BELOW\n",
    "### USE AS MANY CELLS AS YOU WANT!\n",
    "### NAME YOUR MODEL as knn"
   ]
  },
  {
   "cell_type": "markdown",
   "metadata": {
    "id": "OnoF1kjw3wZ1"
   },
   "source": [
    "###Evaluate the model"
   ]
  },
  {
   "cell_type": "code",
   "execution_count": null,
   "metadata": {
    "id": "2f8MO1W1sYYV"
   },
   "outputs": [],
   "source": [
    "### YOUR CODE BELOW\n",
    "### USE AS MANY CELLS AS YOU WANT!\n",
    "### PREDICT TEST LABELS AND SAVE THEM AS y_pred"
   ]
  },
  {
   "cell_type": "code",
   "execution_count": null,
   "metadata": {
    "colab": {
     "base_uri": "https://localhost:8080/"
    },
    "id": "swvm8N2Xra2t",
    "outputId": "b7a29a48-8e4a-45f7-95b7-44ca3f3f9f16"
   },
   "outputs": [
    {
     "name": "stdout",
     "output_type": "stream",
     "text": [
      "Training the knn model\n",
      "Predict for KNN Model\n",
      "Prediction Completed\n",
      "Test Accuracy(KNN): 0.468\n",
      "Training the Decision Tree model\n",
      "Completed Decision Tree Training\n",
      "Predict for Decision Tree Model\n",
      "Test Accuracy(DT): 0.42\n",
      "Training the Logistic Regression model\n",
      "Completed LR Training\n",
      "Predict for LR Model\n",
      "Test Accuracy(LR): 0.503\n"
     ]
    }
   ],
   "source": [
    "#@title Instructor Solution for Previous Two Code Cells { display-mode: \"form\" }\n",
    "# student code may look something like...\n",
    "\n",
    "#######Train the model##################\n",
    "knn = KNeighborsClassifier(n_neighbors=10)\n",
    "print (\"Training the knn model\")\n",
    "knn.fit(X_train, y_train)\n",
    "\n",
    "#######Evaluate the model##################\n",
    "# they might use accuracy_score\n",
    "#This cell will take longer to run(5-10mins)!\n",
    "print (\"Predict for KNN Model\")\n",
    "y_predknn = knn.predict(X_test)\n",
    "print (\"Prediction Completed\")\n",
    "print (\"Test Accuracy(KNN):\",metrics.accuracy_score(y_test, y_predknn))\n",
    "\n",
    "#-----------------DecisionTreeClassifier--------------#\n",
    "#######Train the model##################\n",
    "dt = DecisionTreeClassifier(max_depth=20)\n",
    "print (\"Training the Decision Tree model\")\n",
    "dt.fit(X_train, y_train)\n",
    "print (\"Completed Decision Tree Training\")\n",
    "\n",
    "#######Evaluate the model##################\n",
    "\n",
    "print (\"Predict for Decision Tree Model\")\n",
    "y_preddt = dt.predict(X_test)\n",
    "print (\"Test Accuracy(DT):\",metrics.accuracy_score(y_test, y_preddt))\n",
    "\n",
    "\n",
    "#-----------------Logistic Regression--------------#\n",
    "#######Train the model##################\n",
    "lr = LogisticRegression(solver='lbfgs',multi_class='multinomial')\n",
    "print (\"Training the Logistic Regression model\")\n",
    "lr.fit(X_train, y_train)\n",
    "print (\"Completed LR Training\")\n",
    "\n",
    "#######Evaluate the model##################\n",
    "# they might use accuracy_score\n",
    "#This cell will take longer to run(5-10mins)!\n",
    "print (\"Predict for LR Model\")\n",
    "y_predlr = lr.predict(X_test)\n",
    "print (\"Test Accuracy(LR):\",metrics.accuracy_score(y_test, y_predlr))"
   ]
  },
  {
   "cell_type": "markdown",
   "metadata": {
    "id": "VJVpZmRSN2lY"
   },
   "source": [
    "###Exercise (Discussion) | Est Time: | Within a student group\n",
    "\n",
    "Discussion over different algorithms used for Emotion Detection!\n",
    "\n"
   ]
  },
  {
   "cell_type": "markdown",
   "metadata": {
    "id": "fVr-933j4LRC"
   },
   "source": [
    "###Plot the Confusion Matrix"
   ]
  },
  {
   "cell_type": "code",
   "execution_count": null,
   "metadata": {
    "id": "eN0uVF7cwbGk"
   },
   "outputs": [],
   "source": [
    "'''\n",
    "Plots the confusion Matrix and saves it\n",
    "Pass the true labels and the predicted labels\n",
    "'''\n",
    "def plot_confusion_matrix(y_true,y_predicted):\n",
    "  cm = metrics.confusion_matrix(y_true, y_predicted)\n",
    "  print (\"Plotting the Confusion Matrix\")\n",
    "  labels = list(label_map.values())\n",
    "  df_cm = pd.DataFrame(cm,index = labels,columns = labels)\n",
    "  fig = plt.figure()\n",
    "  res = sns.heatmap(df_cm, annot=True,cmap='Blues', fmt='g')\n",
    "  plt.yticks([0.5,1.5,2.5,3.5,4.5], labels,va='center')\n",
    "  plt.title('Confusion Matrix - TestData')\n",
    "  plt.ylabel('True label')\n",
    "  plt.xlabel('Predicted label')\n",
    "  plt.show()\n",
    "  plt.close()"
   ]
  },
  {
   "cell_type": "code",
   "execution_count": null,
   "metadata": {
    "colab": {
     "base_uri": "https://localhost:8080/",
     "height": 313
    },
    "id": "_7BrfLuF7Q4X",
    "outputId": "81f656ce-e6f2-4cfe-b27e-f7210e09d619"
   },
   "outputs": [
    {
     "name": "stdout",
     "output_type": "stream",
     "text": [
      "Plotting the Confusion Matrix\n"
     ]
    },
    {
     "data": {
      "image/png": "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\n",
      "text/plain": [
       "<Figure size 432x288 with 2 Axes>"
      ]
     },
     "metadata": {
      "needs_background": "light"
     },
     "output_type": "display_data"
    }
   ],
   "source": [
    "plot_confusion_matrix(y_test,y_predlr)"
   ]
  },
  {
   "cell_type": "markdown",
   "metadata": {
    "id": "7iyM_SREPTbE"
   },
   "source": [
    "####Exercise (Discussion) | Est Time: | Within a student group"
   ]
  },
  {
   "cell_type": "code",
   "execution_count": null,
   "metadata": {
    "cellView": "form",
    "id": "cVsJs_arPTnR"
   },
   "outputs": [],
   "source": [
    "#@title Take a look at your confusion Matrix and answer the following questions\n",
    "\n",
    "#@markdown Name most correctly classified emotion? \n",
    "correct_emotion = \"Surprise\"#@param [\"Anger\",\"Happy\",\"Sad\",\"Surprise\", \"Neutral\", \"Fill Me In\"] \n",
    "\n",
    "#@markdown Name most incorrectly classified emotion? \n",
    "incorrect_emotion = \"Sad\"#@param [\"Anger\",\"Happy\",\"Sad\",\"Surprise\", \"Neutral\", \"Fill Me In\"] \n",
    "\n",
    "#@markdown Sad Emotion is highly misclassified as?\n",
    "sad_misclassify =\"Neutral\"#@param [\"Anger\",\"Happy\",\"Sad\",\"Surprise\", \"Neutral\", \"Fill Me In\"] \n",
    "\n",
    "#@markdown Neutral Emotion is highly misclassified as?\n",
    "neutral_misclassify =\"Sad\"#@param [\"Anger\",\"Happy\",\"Sad\",\"Surprise\", \"Neutral\", \"Fill Me In\"] \n",
    "\n",
    "\n",
    "#@markdown Angry Emotion is highly misclassified as?\n",
    "angry_misclassify =\"Neutral\"#@param [\"Anger\",\"Happy\",\"Sad\",\"Surprise\", \"Neutral\", \"Fill Me In\"] \n",
    "\n"
   ]
  },
  {
   "cell_type": "markdown",
   "metadata": {
    "id": "g0dNBYIPI2-c"
   },
   "source": [
    "#Milestone 4: Coding Exercise\n",
    "\n"
   ]
  },
  {
   "cell_type": "markdown",
   "metadata": {
    "id": "GolaaB1-tvBC"
   },
   "source": [
    "We performed feature generation and extraction process in the previous sections. Now train your best model from Section 3 again with actual pixels of the images with standardization.\n",
    "\n",
    "####Report and Comment over the result!"
   ]
  },
  {
   "cell_type": "code",
   "execution_count": null,
   "metadata": {
    "id": "zqMKoYD0Ib9L"
   },
   "outputs": [],
   "source": [
    "#Load the true pixel data and corresponding labels\n",
    "X = np.load('pureX.npy')\n",
    "Y = np.load('dataY.npy')"
   ]
  },
  {
   "cell_type": "code",
   "execution_count": null,
   "metadata": {
    "id": "WatuJy48Qe__"
   },
   "outputs": [],
   "source": [
    "###YOUR CODE HERE\n"
   ]
  },
  {
   "cell_type": "code",
   "execution_count": null,
   "metadata": {
    "colab": {
     "base_uri": "https://localhost:8080/"
    },
    "id": "h_8Mo7OOrz6g",
    "outputId": "39a31e67-19f9-427f-9f59-f8d55b2e4be3"
   },
   "outputs": [
    {
     "name": "stdout",
     "output_type": "stream",
     "text": [
      "Training the knn model\n",
      "Predict for KNN Model\n",
      "Prediction Completed\n",
      "Test Accuracy(KNN): 0.3545\n",
      "Training the Decision Tree model\n",
      "Completed Decision Tree Training\n",
      "Predict for Decision Tree Model\n",
      "Test Accuracy(DT): 0.315\n",
      "Training the Logistic Regression model\n",
      "Completed LR Training\n",
      "Predict for LR Model\n",
      "Test Accuracy(LR): 0.404\n"
     ]
    }
   ],
   "source": [
    "#@title Instructor Solution\n",
    "#Split Data into Train, Test (90-10)\n",
    "X_train, X_test, y_train, y_test = train_test_split(X, Y, test_size=0.1, random_state=42,stratify =Y)\n",
    "\n",
    "\n",
    "#Standardize the Data\n",
    "scaler = StandardScaler()\n",
    "scaler.fit(X_train)\n",
    "X_train = scaler.transform(X_train)\n",
    "X_test = scaler.transform(X_test)\n",
    "\n",
    "#PCA #Returns 264 features out of 2304\n",
    "pca = PCA(.95)\n",
    "pca.fit(X_train)\n",
    "\n",
    "X_train = pca.transform(X_train)\n",
    "X_test= pca.transform(X_test)\n",
    "\n",
    "\n",
    "# student code may look something like...\n",
    "\n",
    "#######Train the model##################\n",
    "knn = KNeighborsClassifier(n_neighbors=10)\n",
    "print (\"Training the knn model\")\n",
    "knn.fit(X_train, y_train)\n",
    "\n",
    "#######Evaluate the model##################\n",
    "# they might use accuracy_score\n",
    "#This cell will take longer to run(5-10mins)!\n",
    "print (\"Predict for KNN Model\")\n",
    "y_predknn = knn.predict(X_test)\n",
    "print (\"Prediction Completed\")\n",
    "print (\"Test Accuracy(KNN):\",metrics.accuracy_score(y_test, y_predknn))\n",
    "\n",
    "\n",
    "\n",
    "#-----------------DecisionTreeClassifier--------------#\n",
    "#######Train the model##################\n",
    "dt = DecisionTreeClassifier(max_depth=20)\n",
    "print (\"Training the Decision Tree model\")\n",
    "dt.fit(X_train, y_train)\n",
    "print (\"Completed Decision Tree Training\")\n",
    "\n",
    "#######Evaluate the model##################\n",
    "\n",
    "print (\"Predict for Decision Tree Model\")\n",
    "y_preddt = dt.predict(X_test)\n",
    "print (\"Test Accuracy(DT):\",metrics.accuracy_score(y_test, y_preddt))\n",
    "\n",
    "\n",
    "#-----------------Logistic Regression--------------#\n",
    "#######Train the model##################\n",
    "lr = LogisticRegression(solver='lbfgs',multi_class='multinomial')\n",
    "print (\"Training the Logistic Regression model\")\n",
    "lr.fit(X_train, y_train)\n",
    "print (\"Completed LR Training\")\n",
    "\n",
    "#######Evaluate the model##################\n",
    "# they might use accuracy_score\n",
    "#This cell will take longer to run(5-10mins)!\n",
    "print (\"Predict for LR Model\")\n",
    "y_predlr = lr.predict(X_test)\n",
    "print (\"Test Accuracy(LR):\",metrics.accuracy_score(y_test, y_predlr))"
   ]
  },
  {
   "cell_type": "code",
   "execution_count": null,
   "metadata": {
    "colab": {
     "base_uri": "https://localhost:8080/"
    },
    "id": "fnDYz09W36xG",
    "outputId": "c9edf31b-60a1-4a3e-f78b-0eb532436604"
   },
   "outputs": [
    {
     "data": {
      "text/plain": [
       "['emo-detection-model.joblib']"
      ]
     },
     "execution_count": 32,
     "metadata": {},
     "output_type": "execute_result"
    }
   ],
   "source": [
    "from joblib import dump\n",
    "dump(dt, \"emo-detection-model.joblib\") "
   ]
  },
  {
   "cell_type": "markdown",
   "metadata": {
    "id": "jTI1-quUzf96"
   },
   "source": [
    "#Finish!"
   ]
  },
  {
   "cell_type": "markdown",
   "metadata": {
    "id": "YlBmqx-agQiw"
   },
   "source": [
    "### Example"
   ]
  },
  {
   "cell_type": "code",
   "execution_count": null,
   "metadata": {
    "colab": {
     "base_uri": "https://localhost:8080/"
    },
    "id": "lfM0GGKm1FMQ",
    "outputId": "a742410d-8bef-423f-80b0-9da964da73ec"
   },
   "outputs": [
    {
     "name": "stdout",
     "output_type": "stream",
     "text": [
      "training knn model ...\n",
      "Predict for KNN Model\n",
      "KNN Test Accuracy on raw image inputs: 0.359\n"
     ]
    }
   ],
   "source": [
    "# extract images as vectors, convert from strings to ints -- this is called a \"list comprehension\" \n",
    "x_image = np.array( [np.fromstring(df['pixels'][i], dtype=np.uint8, sep=\" \") for i in range(len(df))] ) \n",
    "\n",
    "# extract labels in the same way--through a list comprehension\n",
    "y_image = np.array( [df['emotion'][i] for i in range(len(df)) ])\n",
    "\n",
    "# generate train-test (90/10) splits\n",
    "X_train, X_test, y_train, y_test = train_test_split(x_image, y_image, test_size=0.1,random_state=42)\n",
    "\n",
    "# define the model\n",
    "knn = KNeighborsClassifier(n_neighbors=10)\n",
    "\n",
    "# train \n",
    "print (\"training knn model ...\")\n",
    "knn.fit(X_train, y_train)\n",
    "\n",
    "# test\n",
    "print (\"Predict for KNN Model\")\n",
    "y_pred_knn = knn.predict(X_test)\n",
    "\n",
    "# display results\n",
    "print (\"KNN Test Accuracy on raw image inputs:\", metrics.accuracy_score(y_test, y_pred_knn))"
   ]
  }
 ],
 "metadata": {
  "colab": {
   "provenance": []
  },
  "kernelspec": {
   "display_name": "Python 3 (ipykernel)",
   "language": "python",
   "name": "python3"
  },
  "language_info": {
   "codemirror_mode": {
    "name": "ipython",
    "version": 3
   },
   "file_extension": ".py",
   "mimetype": "text/x-python",
   "name": "python",
   "nbconvert_exporter": "python",
   "pygments_lexer": "ipython3",
   "version": "3.9.13"
  }
 },
 "nbformat": 4,
 "nbformat_minor": 1
}
