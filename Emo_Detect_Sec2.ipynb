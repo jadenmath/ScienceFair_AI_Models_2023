{
 "cells": [
  {
   "cell_type": "code",
   "execution_count": 7,
   "id": "656c1832",
   "metadata": {
    "scrolled": true
   },
   "outputs": [
    {
     "name": "stdout",
     "output_type": "stream",
     "text": [
      "Data Downloaded!\n"
     ]
    }
   ],
   "source": [
    "#@title Run this to download the data and setup our environment\n",
    "import cv2\n",
    "import dlib\n",
    "import gdown\n",
    "import pickle\n",
    "import warnings\n",
    "import itertools\n",
    "\n",
    "import numpy as np\n",
    "import pandas as pd\n",
    "import seaborn as sns\n",
    "\n",
    "import urllib.request\n",
    "\n",
    "from sklearn import metrics\n",
    "\n",
    "\n",
    "from scipy.spatial import distance\n",
    "from matplotlib import pyplot as plt\n",
    "from sklearn.decomposition import PCA\n",
    "from sklearn.preprocessing import StandardScaler\n",
    "from sklearn.linear_model import LogisticRegression\n",
    "from sklearn.tree import DecisionTreeClassifier \n",
    "from sklearn.neighbors import KNeighborsClassifier\n",
    "from sklearn.model_selection import train_test_split\n",
    "\n",
    "warnings.filterwarnings(\"ignore\")\n",
    "\n",
    "###Getting the csv data loaded\n",
    "\n",
    "##!wget -O ./ferdata.csv\n",
    "df = pd.read_csv(\"fer2013_5.csv\")\n",
    "\n",
    "###Getting the Dlib Shape predictor!\n",
    "##!wget -O ./shape_predictor_68_face_landmarks.dat\n",
    "predictor = dlib.shape_predictor('shape_predictor_68_face_landmarks.dat')\n",
    "\n",
    "###Getting the Xpure loaded\n",
    "##!wget -O ./pureX.npy()\n",
    "X = np.load('pureX.npy')\n",
    "\n",
    "###Getting the Xdata loaded\n",
    "##!wget -O ./dataX.npy\n",
    "dataX = np.load('dataX_edited.npy')\n",
    "\n",
    "###Getting the Ydata loaded\n",
    "##!wget -O ./dataY.npy\n",
    "Y = np.load('dataY.npy')\n",
    "\n",
    "###Getting the Ydata loaded\n",
    "##!wget -O ./dataY.npy\n",
    "dataY = np.load('dataY.npy', allow_pickle=True)\n",
    "\n",
    "print (\"Data Downloaded!\")\n"
   ]
  },
  {
   "cell_type": "code",
   "execution_count": 9,
   "id": "01a4a6be",
   "metadata": {},
   "outputs": [
    {
     "name": "stdout",
     "output_type": "stream",
     "text": [
      "Yes! 68 * 68 = 4624.\n",
      "Thats Right! If we exclude the distance of points with itself and repeats, we will have 67+66+65+...+1 = 2278 distance values\n"
     ]
    }
   ],
   "source": [
    "#@title Q1: Number of distance values after computing euclidean distances among facial landmarks? Q2: Number of distance values after computing euclidean distances (exclusive of distances of facial landmarks points with itself and repeats)? { display-mode: \"form\" }\n",
    "\n",
    "Q1 = \"4624\" #@param [\"2278\",\"4556\",\"4624\",\"68\",\"Fill Me In\"] \n",
    "\n",
    "Q2 = \"2278\" #@param [\"2278\",\"4556\",\"4624\",\"68\",\"Fill Me In\"] \n",
    "\n",
    "if Q1 == '4624': \n",
    "  print('Yes! 68 * 68 = 4624.') \n",
    "else: \n",
    "  print('Try Again')\n",
    "\n",
    "if Q2 == \"2278\": \n",
    "  print(\"Thats Right! If we exclude the distance of points with itself and repeats, we will have 67+66+65+...+1 = 2278 distance values\")\n",
    "else: \n",
    "  print('Try again!')"
   ]
  },
  {
   "cell_type": "code",
   "execution_count": 11,
   "id": "ae9f0a84",
   "metadata": {},
   "outputs": [
    {
     "data": {
      "text/html": [
       "<div>\n",
       "<style scoped>\n",
       "    .dataframe tbody tr th:only-of-type {\n",
       "        vertical-align: middle;\n",
       "    }\n",
       "\n",
       "    .dataframe tbody tr th {\n",
       "        vertical-align: top;\n",
       "    }\n",
       "\n",
       "    .dataframe thead th {\n",
       "        text-align: right;\n",
       "    }\n",
       "</style>\n",
       "<table border=\"1\" class=\"dataframe\">\n",
       "  <thead>\n",
       "    <tr style=\"text-align: right;\">\n",
       "      <th></th>\n",
       "      <th>emotion</th>\n",
       "      <th>pixels</th>\n",
       "      <th>Usage</th>\n",
       "    </tr>\n",
       "  </thead>\n",
       "  <tbody>\n",
       "    <tr>\n",
       "      <th>0</th>\n",
       "      <td>0</td>\n",
       "      <td>215 216 215 215 215 216 216 216 214 178 81 30 ...</td>\n",
       "      <td>Training</td>\n",
       "    </tr>\n",
       "    <tr>\n",
       "      <th>1</th>\n",
       "      <td>4</td>\n",
       "      <td>244 244 244 244 243 244 242 190 132 93 81 73 7...</td>\n",
       "      <td>Training</td>\n",
       "    </tr>\n",
       "    <tr>\n",
       "      <th>2</th>\n",
       "      <td>4</td>\n",
       "      <td>255 255 255 255 255 255 255 255 255 255 255 25...</td>\n",
       "      <td>Training</td>\n",
       "    </tr>\n",
       "    <tr>\n",
       "      <th>3</th>\n",
       "      <td>4</td>\n",
       "      <td>38 56 60 52 58 65 53 44 35 48 59 60 36 30 21 3...</td>\n",
       "      <td>Training</td>\n",
       "    </tr>\n",
       "    <tr>\n",
       "      <th>4</th>\n",
       "      <td>4</td>\n",
       "      <td>77 40 27 21 22 25 20 31 27 17 27 42 47 55 51 4...</td>\n",
       "      <td>Training</td>\n",
       "    </tr>\n",
       "  </tbody>\n",
       "</table>\n",
       "</div>"
      ],
      "text/plain": [
       "   emotion                                             pixels     Usage\n",
       "0        0  215 216 215 215 215 216 216 216 214 178 81 30 ...  Training\n",
       "1        4  244 244 244 244 243 244 242 190 132 93 81 73 7...  Training\n",
       "2        4  255 255 255 255 255 255 255 255 255 255 255 25...  Training\n",
       "3        4  38 56 60 52 58 65 53 44 35 48 59 60 36 30 21 3...  Training\n",
       "4        4  77 40 27 21 22 25 20 31 27 17 27 42 47 55 51 4...  Training"
      ]
     },
     "execution_count": 11,
     "metadata": {},
     "output_type": "execute_result"
    }
   ],
   "source": [
    "#Integer to Label Mapping\n",
    "label_map = {0:\"ANGRY\",1:\"HAPPY\",2:\"SAD\",3:\"SURPRISE\",4:\"NEUTRAL\"}\n",
    "\n",
    "df.head()"
   ]
  },
  {
   "cell_type": "code",
   "execution_count": 12,
   "id": "b1b2164d",
   "metadata": {},
   "outputs": [
    {
     "data": {
      "image/png": "[encoded data removed]",
      "text/plain": [
       "<Figure size 640x480 with 1 Axes>"
      ]
     },
     "metadata": {},
     "output_type": "display_data"
    }
   ],
   "source": [
    "# generate x labels for our plot\n",
    "emotion_labels = [label_map[i] for i in label_map.keys()]\n",
    "\n",
    "# generate counts for each emotion type\n",
    "emotion_counts = [np.sum(df[\"emotion\"] == i) for i in range(len(label_map))]\n",
    "\n",
    "# generate a bar plot for our emotion labels that has different colors \n",
    "[plt.bar(x = emotion_labels[i], height = emotion_counts[i] ) for i in range(len(emotion_labels))] \n",
    "\n",
    "# make the plot interpretable with x and y labels + title\n",
    "plt.xlabel('EMOTION LABEL')\n",
    "plt.ylabel('N OBSERVSATIONS')\n",
    "plt.title('A balanced distribution of emotions in our data set', y=1.05); "
   ]
  },
  {
   "cell_type": "code",
   "execution_count": 14,
   "id": "197b8374",
   "metadata": {},
   "outputs": [],
   "source": [
    "#@title Run this code to setup the extraction of Facial Landmarks\n",
    "\n",
    "# Load's dlib's pretrained face detector model\n",
    "#frontalface_detector = dlib.get_frontal_face_detector()\n",
    "\n",
    "\n",
    "#Load the 68 face Landmark file\n",
    "predictor = dlib.shape_predictor('./shape_predictor_68_face_landmarks.dat')\n",
    "\"\"\"\n",
    "Returns facial landmarks for the given input image path\n",
    "\"\"\"\n",
    "def get_landmarks(image):\n",
    "  \n",
    "  \n",
    "  #:type image : cv2 object\n",
    "  #:rtype landmarks : list of tuples where each tuple represents \n",
    "  #                  the x and y co-ordinates of facial keypoints\n",
    "  \n",
    "  #Bounding Box co-ordinates around the face(Training data is 48*48(cropped faces))\n",
    "  rects = [dlib.rectangle(left=1, top=1, right=47, bottom=47)]\n",
    "\n",
    "  #Read Image using OpenCV\n",
    "  #image = cv2.imread(image_path)\n",
    "  #Detect the Faces within the image\n",
    "  landmarks = [(p.x, p.y) for p in predictor(image, rects[0]).parts()]\n",
    "  return image,landmarks\n",
    "\n",
    "\"\"\"\n",
    "Display image with its Facial Landmarks\n",
    "\"\"\"\n",
    "def plot_image_landmarks(image,face_landmarks):\n",
    "  \"\"\"\n",
    "  :type image_path : str\n",
    "  :type face_landmarks : list of tuples where each tuple represents \n",
    "                     the x and y co-ordinates of facial keypoints\n",
    "  :rtype : None\n",
    "  \"\"\"\n",
    "  radius = -2\n",
    "  circle_thickness = 1\n",
    "  image_copy = image.copy()\n",
    "  for (x, y) in face_landmarks:\n",
    "    cv2.circle(image_copy, (x, y), circle_thickness, (255,0,0), radius)\n",
    "    \n",
    "  plt.imshow(image_copy, interpolation='nearest', cmap='Greys_r')\n",
    "  plt.xticks([]); plt.yticks([])\n",
    "  plt.show()\n",
    "  \n",
    " \n",
    "'''\n",
    "Converts pixels values to 2D-image. \n",
    "Displays the image and returns the cv2 image\n",
    "object\n",
    "'''\n",
    "def get_pixels_image(img_pixels,plt_flag):\n",
    "  \"\"\"\n",
    "  :type image_pixels : str\n",
    "  :type plt_flag : boolean\n",
    "  :rtype image : cv2 object\n",
    "  \"\"\"\n",
    "  \n",
    "  width = 48\n",
    "  height = 48\n",
    "  \n",
    "  image = np.fromstring(img_pixels, dtype=np.uint8, sep=\" \").reshape((height, width))\n",
    "  \n",
    "  if plt_flag:\n",
    "      plt.imshow(image, interpolation='nearest', cmap=\"Greys_r\")\n",
    "      plt.xticks([]); plt.yticks([])\n",
    "      plt.show()\n",
    "      \n",
    "      \n",
    "  return image\n"
   ]
  },
  {
   "cell_type": "code",
   "execution_count": 16,
   "id": "c3624784",
   "metadata": {},
   "outputs": [
    {
     "data": {
      "image/png": "[encoded data removed]",
      "text/plain": [
       "<Figure size 640x480 with 1 Axes>"
      ]
     },
     "metadata": {},
     "output_type": "display_data"
    }
   ],
   "source": [
    "# select random index \n",
    "i_index = np.random.randint(len(df))\n",
    "\n",
    "# extract pixel values \n",
    "image_pixels = df['pixels'][i_index]        \n",
    "\n",
    "# convert pixels to 2D Images\n",
    "image = get_pixels_image(image_pixels, True)"
   ]
  },
  {
   "cell_type": "code",
   "execution_count": 17,
   "id": "eda41c1c",
   "metadata": {},
   "outputs": [
    {
     "data": {
      "image/png": "[encoded data removed]",
      "text/plain": [
       "<Figure size 640x480 with 1 Axes>"
      ]
     },
     "metadata": {},
     "output_type": "display_data"
    }
   ],
   "source": [
    "#Extract the Facial Landmarks\n",
    "image,facial_landmarks = get_landmarks(image)\n",
    "\n",
    "#Display the Facial Landmarks on the Image\n",
    "plot_image_landmarks(image,facial_landmarks)"
   ]
  },
  {
   "cell_type": "code",
   "execution_count": 19,
   "id": "4bb2968a",
   "metadata": {},
   "outputs": [],
   "source": [
    "#@title Instructor Solution\n",
    "def get_all_landmarks_euclid_dist(face_landmarks):\n",
    "  \n",
    "    e_dist = []\n",
    "    for i, j in itertools.combinations(range(68), 2):\n",
    "      e_dist.append(distance.euclidean(face_landmarks[i], face_landmarks[j]))\n",
    "    \n",
    "    return e_dist"
   ]
  },
  {
   "cell_type": "code",
   "execution_count": 21,
   "id": "23e109f6",
   "metadata": {},
   "outputs": [],
   "source": [
    "#@title Function that preprocesses the data to extract distances between all points\n",
    "\n",
    "def preprocess_data(df):\n",
    "  \n",
    "  X = []\n",
    "  Y = []\n",
    "  X_pixels = []\n",
    "  \n",
    "  n_pixels = 2304\n",
    "  \n",
    "  for index, row in (df.iterrows()):\n",
    "\n",
    "      if index%1000 == 0:\n",
    "        print (index, \"Datapoints Processed\")\n",
    "        \n",
    "      try:\n",
    "          image = get_pixels_image(row['pixels'],0)\n",
    "          X_pixels.append(image.ravel()) \n",
    "          image = cv2.GaussianBlur(image,(5,5),0)\n",
    "         \n",
    "          _,face_landmarks = get_landmarks(image)\n",
    "          X.append(get_all_landmarks_euclid_dist(face_landmarks)) # Using our feature function!\n",
    "          Y.append(row['emotion'])\n",
    "\n",
    "      except Exception as e:\n",
    "          print (\"An error occured:\",e)\n",
    "\n",
    "  #Save the data \n",
    "  np.save(\"pureX\", X_pixels)\n",
    "  np.save(\"dataX\", X)\n",
    "  np.save(\"dataY\", Y)\n",
    "  \n",
    "  return np.array(X_pixels),np.array(X),np.array(Y) "
   ]
  },
  {
   "cell_type": "code",
   "execution_count": 24,
   "id": "62137746",
   "metadata": {},
   "outputs": [],
   "source": [
    "# set to True if we want to preload data -- which has already been generated for us :) \n",
    "preload = True \n",
    "\n",
    "if preload: \n",
    "\n",
    "  # load outputs saved in this folder after running preprocess_data() \n",
    "  dataX\n",
    "  dataY\n",
    "  \n",
    "else: \n",
    "  \n",
    "  # this takes 15-20 minutes to run, but someone has already run it and saved the ouputs in this folder\n",
    "  pureX, dataX, dataY = preprocess_data(df)"
   ]
  },
  {
   "cell_type": "code",
   "execution_count": 26,
   "id": "695c63f7",
   "metadata": {},
   "outputs": [],
   "source": [
    "#Split Data into Train, Test (90-10)\n",
    "X_train, X_test, y_train, y_test = train_test_split(dataX, dataY, test_size=0.1, random_state=42,stratify =dataY)"
   ]
  },
  {
   "cell_type": "code",
   "execution_count": 29,
   "id": "e14b625a",
   "metadata": {},
   "outputs": [
    {
     "data": {
      "text/plain": [
       "0.493"
      ]
     },
     "execution_count": 29,
     "metadata": {},
     "output_type": "execute_result"
    }
   ],
   "source": [
    "from sklearn.linear_model import LogisticRegression\n",
    "model = LogisticRegression()\n",
    "model.fit(X_train,y_train)\n",
    "model.score(X_test,y_test)"
   ]
  },
  {
   "cell_type": "code",
   "execution_count": 31,
   "id": "79e9efc8",
   "metadata": {},
   "outputs": [],
   "source": [
    "####Standardize the data####################\n",
    "###Note: Do not use test data to fit your Standardscaler Model\n",
    "scaler = StandardScaler()\n",
    "scaler.fit(X_train)\n",
    "X_train = scaler.transform(X_train)\n",
    "X_test = scaler.transform(X_test)"
   ]
  },
  {
   "cell_type": "code",
   "execution_count": 32,
   "id": "d1636713",
   "metadata": {},
   "outputs": [
    {
     "data": {
      "text/plain": [
       "(18000, 2278)"
      ]
     },
     "execution_count": 32,
     "metadata": {},
     "output_type": "execute_result"
    }
   ],
   "source": [
    "X_train.shape"
   ]
  },
  {
   "cell_type": "code",
   "execution_count": 34,
   "id": "6623be4b",
   "metadata": {},
   "outputs": [],
   "source": [
    "#Reduces features by maintaining 95% variance of the data\n",
    "#After doing PCA on our training data, 2278 Dimensions --->reduced to 20\n",
    "#Note: PCA is trained only on training data \n",
    "pca = PCA(.95)\n",
    "pca.fit(X_train)\n",
    "\n",
    "X_train = pca.transform(X_train)\n",
    "X_test= pca.transform(X_test)"
   ]
  },
  {
   "cell_type": "code",
   "execution_count": 36,
   "id": "ddbf7912",
   "metadata": {},
   "outputs": [
    {
     "data": {
      "text/plain": [
       "(18000, 9)"
      ]
     },
     "execution_count": 36,
     "metadata": {},
     "output_type": "execute_result"
    }
   ],
   "source": [
    "X_train.shape"
   ]
  },
  {
   "cell_type": "code",
   "execution_count": 38,
   "id": "40e969c2",
   "metadata": {},
   "outputs": [
    {
     "name": "stdout",
     "output_type": "stream",
     "text": [
      "Yes, our inputs are our distance between facial landmarks!\n",
      "Yes, our outputs are integer encoded emotions!\n",
      "We are trying to predict labels, therefore this is classification!\n"
     ]
    }
   ],
   "source": [
    "#@title How will our model operate? { display-mode: \"form\" }\n",
    "\n",
    "#@markdown What are our inputs? \n",
    "inputs = \"distances between facial landmarks\" #@param [\"images\", \"facial landmarks\", \"distances between facial landmarks\", \"Fill Me In\"]\n",
    "\n",
    "#@markdown What are our outputs? \n",
    "outputs = \"integer encoded emotions\" #@param [\"integer encoded emotions\", \"images\", \"image edges\", \"Fill Me In\"]\n",
    "\n",
    "#@markdown What kind of problem will our AI model solve? \n",
    "problem_type  = \"classification\" #@param [\"classification\", \"regression\",\"Fill Me In\"]\n",
    "\n",
    "\n",
    "if inputs == \"distances between facial landmarks\":\n",
    "  print(\"Yes, our inputs are our distance between facial landmarks!\")\n",
    "else:\n",
    "  print('Not quite our inputs.')\n",
    "\n",
    "if outputs == \"integer encoded emotions\":\n",
    "  print(\"Yes, our outputs are integer encoded emotions!\")\n",
    "else:\n",
    "  print('Not quite our outputs.')\n",
    "  \n",
    "if problem_type == \"classification\":\n",
    "  print(\"We are trying to predict labels, therefore this is classification!\")\n",
    "else:\n",
    "  print('Not quite our problem!')"
   ]
  },
  {
   "cell_type": "code",
   "execution_count": 40,
   "id": "897674e8",
   "metadata": {},
   "outputs": [
    {
     "name": "stdout",
     "output_type": "stream",
     "text": [
      "Training the knn model\n",
      "Predict for KNN Model\n",
      "Prediction Completed\n",
      "Test Accuracy(KNN): 0.462\n",
      "Training the Decision Tree model\n",
      "Completed Decision Tree Training\n",
      "Predict for Decision Tree Model\n",
      "Test Accuracy(DT): 0.411\n",
      "Training the Logistic Regression model\n",
      "Completed LR Training\n",
      "Predict for LR Model\n",
      "Test Accuracy(LR): 0.4575\n"
     ]
    }
   ],
   "source": [
    "#@title Instructor Solution for Previous Two Code Cells { display-mode: \"form\" }\n",
    "# student code may look something like...\n",
    "\n",
    "#######Train the model##################\n",
    "knn = KNeighborsClassifier(n_neighbors=10)\n",
    "print (\"Training the knn model\")\n",
    "knn.fit(X_train, y_train)\n",
    "\n",
    "#######Evaluate the model##################\n",
    "# they might use accuracy_score\n",
    "#This cell will take longer to run(5-10mins)!\n",
    "print (\"Predict for KNN Model\")\n",
    "y_predknn = knn.predict(X_test)\n",
    "print (\"Prediction Completed\")\n",
    "print (\"Test Accuracy(KNN):\",metrics.accuracy_score(y_test, y_predknn))\n",
    "\n",
    "#-----------------DecisionTreeClassifier--------------#\n",
    "#######Train the model##################\n",
    "dt = DecisionTreeClassifier(max_depth=20)\n",
    "print (\"Training the Decision Tree model\")\n",
    "dt.fit(X_train, y_train)\n",
    "print (\"Completed Decision Tree Training\")\n",
    "\n",
    "#######Evaluate the model##################\n",
    "\n",
    "print (\"Predict for Decision Tree Model\")\n",
    "y_preddt = dt.predict(X_test)\n",
    "print (\"Test Accuracy(DT):\",metrics.accuracy_score(y_test, y_preddt))\n",
    "\n",
    "\n",
    "#-----------------Logistic Regression--------------#\n",
    "#######Train the model##################\n",
    "lr = LogisticRegression(solver='lbfgs',multi_class='multinomial')\n",
    "print (\"Training the Logistic Regression model\")\n",
    "lr.fit(X_train, y_train)\n",
    "print (\"Completed LR Training\")\n",
    "\n",
    "#######Evaluate the model##################\n",
    "# they might use accuracy_score\n",
    "#This cell will take longer to run(5-10mins)!\n",
    "print (\"Predict for LR Model\")\n",
    "y_predlr = lr.predict(X_test)\n",
    "print (\"Test Accuracy(LR):\",metrics.accuracy_score(y_test, y_predlr))"
   ]
  },
  {
   "cell_type": "code",
   "execution_count": 42,
   "id": "b09e6bdd",
   "metadata": {},
   "outputs": [],
   "source": [
    "'''\n",
    "Plots the confusion Matrix and saves it\n",
    "Pass the true labels and the predicted labels\n",
    "'''\n",
    "def plot_confusion_matrix(y_true,y_predicted):\n",
    "  cm = metrics.confusion_matrix(y_true, y_predicted)\n",
    "  print (\"Plotting the Confusion Matrix\")\n",
    "  labels = list(label_map.values())\n",
    "  df_cm = pd.DataFrame(cm,index = labels,columns = labels)\n",
    "  fig = plt.figure()\n",
    "  res = sns.heatmap(df_cm, annot=True,cmap='Blues', fmt='g')\n",
    "  plt.yticks([0.5,1.5,2.5,3.5,4.5], labels,va='center')\n",
    "  plt.title('Confusion Matrix - TestData')\n",
    "  plt.ylabel('True label')\n",
    "  plt.xlabel('Predicted label')\n",
    "  plt.show()\n",
    "  plt.close()"
   ]
  },
  {
   "cell_type": "code",
   "execution_count": 44,
   "id": "5206f60f",
   "metadata": {},
   "outputs": [
    {
     "name": "stdout",
     "output_type": "stream",
     "text": [
      "Plotting the Confusion Matrix\n"
     ]
    },
    {
     "data": {
      "image/png": "[encoded data removed]",
      "text/plain": [
       "<Figure size 640x480 with 2 Axes>"
      ]
     },
     "metadata": {},
     "output_type": "display_data"
    }
   ],
   "source": [
    "plot_confusion_matrix(y_test,y_predlr)"
   ]
  },
  {
   "cell_type": "code",
   "execution_count": 46,
   "id": "88c51bac",
   "metadata": {},
   "outputs": [],
   "source": [
    "#@title Take a look at your confusion Matrix and answer the following questions\n",
    "\n",
    "#@markdown Name most correctly classified emotion? \n",
    "correct_emotion = \"Surprise\"#@param [\"Anger\",\"Happy\",\"Sad\",\"Surprise\", \"Neutral\", \"Fill Me In\"] \n",
    "\n",
    "#@markdown Name most incorrectly classified emotion? \n",
    "incorrect_emotion = \"Sad\"#@param [\"Anger\",\"Happy\",\"Sad\",\"Surprise\", \"Neutral\", \"Fill Me In\"] \n",
    "\n",
    "#@markdown Sad Emotion is highly misclassified as?\n",
    "sad_misclassify =\"Neutral\"#@param [\"Anger\",\"Happy\",\"Sad\",\"Surprise\", \"Neutral\", \"Fill Me In\"] \n",
    "\n",
    "#@markdown Neutral Emotion is highly misclassified as?\n",
    "neutral_misclassify =\"Sad\"#@param [\"Anger\",\"Happy\",\"Sad\",\"Surprise\", \"Neutral\", \"Fill Me In\"] \n",
    "\n",
    "\n",
    "#@markdown Angry Emotion is highly misclassified as?\n",
    "angry_misclassify =\"Neutral\"#@param [\"Anger\",\"Happy\",\"Sad\",\"Surprise\", \"Neutral\", \"Fill Me In\"] \n",
    "\n"
   ]
  },
  {
   "cell_type": "code",
   "execution_count": 48,
   "id": "71a84126",
   "metadata": {},
   "outputs": [
    {
     "data": {
      "text/plain": [
       "array([0, 4, 4, ..., 0, 2, 0], dtype=int64)"
      ]
     },
     "execution_count": 48,
     "metadata": {},
     "output_type": "execute_result"
    }
   ],
   "source": [
    "#Load the true pixel data and corresponding labels\n",
    "X\n",
    "Y"
   ]
  },
  {
   "cell_type": "code",
   "execution_count": 53,
   "id": "c2d0e67b",
   "metadata": {},
   "outputs": [
    {
     "name": "stdout",
     "output_type": "stream",
     "text": [
      "Training the knn model\n",
      "Predict for KNN Model\n",
      "Prediction Completed\n",
      "Test Accuracy(KNN): 0.3545\n",
      "Training the Decision Tree model\n",
      "Completed Decision Tree Training\n",
      "Predict for Decision Tree Model\n",
      "Test Accuracy(DT): 0.3155\n",
      "Training the Logistic Regression model\n",
      "Completed LR Training\n",
      "Predict for LR Model\n",
      "Test Accuracy(LR): 0.404\n"
     ]
    }
   ],
   "source": [
    "#@title Instructor Solution\n",
    "#Split Data into Train, Test (90-10)\n",
    "X_train, X_test, y_train, y_test = train_test_split(X, Y, test_size=0.1, random_state=42,stratify =Y)\n",
    "\n",
    "\n",
    "#Standardize the Data\n",
    "scaler = StandardScaler()\n",
    "scaler.fit(X_train)\n",
    "X_train = scaler.transform(X_train)\n",
    "X_test = scaler.transform(X_test)\n",
    "\n",
    "#PCA #Returns 264 features out of 2304\n",
    "pca = PCA(.95)\n",
    "pca.fit(X_train)\n",
    "\n",
    "X_train = pca.transform(X_train)\n",
    "X_test= pca.transform(X_test)\n",
    "\n",
    "\n",
    "# student code may look something like...\n",
    "\n",
    "#######Train the model##################\n",
    "knn = KNeighborsClassifier(n_neighbors=10)\n",
    "print (\"Training the knn model\")\n",
    "knn.fit(X_train, y_train)\n",
    "\n",
    "#######Evaluate the model##################\n",
    "# they might use accuracy_score\n",
    "#This cell will take longer to run(5-10mins)!\n",
    "print (\"Predict for KNN Model\")\n",
    "y_predknn = knn.predict(X_test)\n",
    "print (\"Prediction Completed\")\n",
    "print (\"Test Accuracy(KNN):\",metrics.accuracy_score(y_test, y_predknn))\n",
    "\n",
    "\n",
    "\n",
    "#-----------------DecisionTreeClassifier--------------#\n",
    "#######Train the model##################\n",
    "dt = DecisionTreeClassifier(max_depth=20)\n",
    "print (\"Training the Decision Tree model\")\n",
    "dt.fit(X_train, y_train)\n",
    "print (\"Completed Decision Tree Training\")\n",
    "\n",
    "#######Evaluate the model##################\n",
    "\n",
    "print (\"Predict for Decision Tree Model\")\n",
    "y_preddt = dt.predict(X_test)\n",
    "print (\"Test Accuracy(DT):\",metrics.accuracy_score(y_test, y_preddt))\n",
    "\n",
    "\n",
    "#-----------------Logistic Regression--------------#\n",
    "#######Train the model##################\n",
    "lr = LogisticRegression(solver='lbfgs',multi_class='multinomial')\n",
    "print (\"Training the Logistic Regression model\")\n",
    "lr.fit(X_train, y_train)\n",
    "print (\"Completed LR Training\")\n",
    "\n",
    "#######Evaluate the model##################\n",
    "# they might use accuracy_score\n",
    "#This cell will take longer to run(5-10mins)!\n",
    "print (\"Predict for LR Model\")\n",
    "y_predlr = lr.predict(X_test)\n",
    "print (\"Test Accuracy(LR):\",metrics.accuracy_score(y_test, y_predlr))"
   ]
  },
  {
   "cell_type": "code",
   "execution_count": 55,
   "id": "be80348c",
   "metadata": {},
   "outputs": [
    {
     "data": {
      "text/plain": [
       "['emo-detection-model.joblib']"
      ]
     },
     "execution_count": 55,
     "metadata": {},
     "output_type": "execute_result"
    }
   ],
   "source": [
    "from joblib import dump\n",
    "dump(dt, \"emo-detection-model.joblib\") "
   ]
  },
  {
   "cell_type": "code",
   "execution_count": 57,
   "id": "754e250d",
   "metadata": {},
   "outputs": [
    {
     "name": "stdout",
     "output_type": "stream",
     "text": [
      "training knn model ...\n",
      "Predict for KNN Model\n",
      "KNN Test Accuracy on raw image inputs: 0.359\n"
     ]
    }
   ],
   "source": [
    "# extract images as vectors, convert from strings to ints -- this is called a \"list comprehension\" \n",
    "x_image = np.array( [np.fromstring(df['pixels'][i], dtype=np.uint8, sep=\" \") for i in range(len(df))] ) \n",
    "\n",
    "# extract labels in the same way--through a list comprehension\n",
    "y_image = np.array( [df['emotion'][i] for i in range(len(df)) ])\n",
    "\n",
    "# generate train-test (90/10) splits\n",
    "X_train, X_test, y_train, y_test = train_test_split(x_image, y_image, test_size=0.1,random_state=42)\n",
    "\n",
    "# define the model\n",
    "knn = KNeighborsClassifier(n_neighbors=10)\n",
    "\n",
    "# train \n",
    "print (\"training knn model ...\")\n",
    "knn.fit(X_train, y_train)\n",
    "\n",
    "# test\n",
    "print (\"Predict for KNN Model\")\n",
    "y_pred_knn = knn.predict(X_test)\n",
    "\n",
    "# display results\n",
    "print (\"KNN Test Accuracy on raw image inputs:\", metrics.accuracy_score(y_test, y_pred_knn))"
   ]
  }
 ],
 "metadata": {
  "kernelspec": {
   "display_name": "Python 3 (ipykernel)",
   "language": "python",
   "name": "python3"
  },
  "language_info": {
   "codemirror_mode": {
    "name": "ipython",
    "version": 3
   },
   "file_extension": ".py",
   "mimetype": "text/x-python",
   "name": "python",
   "nbconvert_exporter": "python",
   "pygments_lexer": "ipython3",
   "version": "3.9.13"
  }
 },
 "nbformat": 4,
 "nbformat_minor": 5
}
