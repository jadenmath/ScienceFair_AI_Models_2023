{
 "cells": [
  {
   "cell_type": "code",
   "execution_count": 1,
   "id": "68d03213",
   "metadata": {},
   "outputs": [],
   "source": [
    "# Run this to download data and prepare our environment!\n",
    "\n",
    "import cv2\n",
    "import dlib\n",
    "import pickle\n",
    "import warnings\n",
    "import numpy as np\n",
    "import pandas as pd\n",
    "import seaborn as sns\n",
    "import itertools \n",
    "\n",
    "import urllib.request\n",
    " \n",
    "from sklearn import metrics\n",
    "from scipy.spatial import distance\n",
    "from sklearn.metrics import accuracy_score\n",
    "from matplotlib import pyplot as plt\n",
    "from tqdm import tqdm,tqdm_pandas\n",
    "from sklearn.preprocessing import StandardScaler\n",
    "from sklearn.model_selection import train_test_split\n",
    "\n",
    "import re\n",
    "import keras\n",
    "\n",
    "from keras.models import Sequential\n",
    "from tensorflow.keras.utils import to_categorical\n",
    "from tensorflow.keras.optimizers import Adam, SGD\n",
    "from keras.layers import Dense, Dropout, Activation, Flatten\n",
    "from keras.layers import Conv2D, MaxPooling2D, BatchNormalization\n",
    "from keras.losses import categorical_crossentropy, binary_crossentropy\n",
    "from keras.regularizers import l2\n",
    "from keras.callbacks import EarlyStopping, ModelCheckpoint\n",
    "from keras.models import load_model\n",
    "\n",
    "# grab tools from our tensorflow and keras toolboxes!\n",
    "import tensorflow as tf\n",
    "from keras.models import Sequential\n",
    "from keras.layers import Activation, Dropout, Flatten, Dense\n",
    "from keras import optimizers\n",
    "\n",
    "warnings.filterwarnings(\"ignore\")\n",
    "\n",
    "\n",
    "# Plots the confusion Matrix and save it\n",
    "\n",
    "def plot_confusion_matrix(y_true,y_predicted):\n",
    "  cm = metrics.confusion_matrix(y_true, y_predicted)\n",
    "  print (\"Plotting the Confusion Matrix\")\n",
    "  labels = list(label_map.values())\n",
    "  df_cm = pd.DataFrame(cm,index = labels,columns = labels)\n",
    "  fig = plt.figure()\n",
    "  res = sns.heatmap(df_cm, annot=True,cmap='Blues', fmt='g')\n",
    "  plt.yticks([0.5,1.5,2.5,3.5,4.5], labels,va='center')\n",
    "  plt.title('Confusion Matrix - TestData')\n",
    "  plt.ylabel('True label')\n",
    "  plt.xlabel('Predicted label')\n",
    " \n",
    "  plt.show()\n",
    "  plt.close()\n",
    "\n",
    "def plot_graphs(history, best):\n",
    "  \n",
    "  plt.figure(figsize=[10,4])\n",
    "  # summarize history for accuracy\n",
    "  plt.subplot(121)\n",
    "  plt.plot(history.history['binary_accuracy'])\n",
    "  plt.plot(history.history['val_binary_accuracy'])\n",
    "  plt.title('model accuracy across training\\n test accuracy of %.02f'%best[1])\n",
    "  plt.ylabel('accuracy')\n",
    "  plt.xlabel('epoch')\n",
    "  plt.legend(['train', 'validation'], loc='upper left')\n",
    "  \n",
    "  # summarize history for loss\n",
    "  plt.subplot(122)\n",
    "  plt.plot(history.history['loss'])\n",
    "  plt.plot(history.history['val_loss'])\n",
    "  plt.title('model loss across training\\n test loss of %.02f'%best[0])\n",
    "  plt.ylabel('loss')\n",
    "  plt.xlabel('epoch')\n",
    "  plt.legend(['train', 'validation'], loc='upper left')\n",
    "  plt.show()"
   ]
  },
  {
   "cell_type": "code",
   "execution_count": 2,
   "id": "31b28101",
   "metadata": {},
   "outputs": [],
   "source": [
    "width, height = 160, 128"
   ]
  },
  {
   "cell_type": "code",
   "execution_count": 3,
   "id": "42659989",
   "metadata": {},
   "outputs": [
    {
     "name": "stdout",
     "output_type": "stream",
     "text": [
      "Found 90 files belonging to 2 classes.\n",
      "Found 10 files belonging to 2 classes.\n",
      "Found 12 files belonging to 2 classes.\n"
     ]
    }
   ],
   "source": [
    "train_ds = tf.keras.utils.image_dataset_from_directory(  \n",
    "  \"C:\\\\Users\\\\jaden\\\\OneDrive\\\\Documents\\\\GitHub\\\\ScienceFair_AI_Models_2023\\\\jpgTrainingData\\\\Train\",  \n",
    "  seed=123,  \n",
    "  image_size = (height, width),\n",
    "  batch_size = 1, color_mode = \"grayscale\")\n",
    "\n",
    "val_ds = tf.keras.utils.image_dataset_from_directory(  \n",
    "  \"C:\\\\Users\\\\jaden\\\\OneDrive\\\\Documents\\\\GitHub\\\\ScienceFair_AI_Models_2023\\\\jpgTrainingData\\\\Val\",  \n",
    "  seed=123,  \n",
    "  image_size = (height, width),\n",
    "  batch_size = 1, color_mode = \"grayscale\") \n",
    "\n",
    "test_ds = tf.keras.utils.image_dataset_from_directory(  \n",
    "  \"C:\\\\Users\\\\jaden\\\\OneDrive\\\\Documents\\\\GitHub\\\\ScienceFair_AI_Models_2023\\\\jpgTrainingData\\\\Test\",  \n",
    "  seed=123,  \n",
    "  image_size = (height, width),\n",
    "  batch_size = 1, color_mode = \"grayscale\")  "
   ]
  },
  {
   "cell_type": "code",
   "execution_count": 5,
   "id": "9d88cbce",
   "metadata": {},
   "outputs": [],
   "source": [
    "cnn_model = Sequential()\n",
    "\n",
    "cnn_model.add(Conv2D(64, kernel_size=(3, 3), activation='relu', input_shape=(height, width, 1), kernel_regularizer=l2(0.01)))\n",
    "cnn_model.add(Conv2D(64, kernel_size=(3, 3), activation='relu', padding='same'))\n",
    "cnn_model.add(BatchNormalization())\n",
    "cnn_model.add(MaxPooling2D(pool_size=(2, 2), strides=(2, 2)))\n",
    "cnn_model.add(Dropout(0.5))\n",
    "\n",
    "cnn_model.add(Conv2D(128, kernel_size=(3, 3), activation='relu', padding='same'))\n",
    "cnn_model.add(BatchNormalization())\n",
    "cnn_model.add(Conv2D(128, kernel_size=(3, 3), activation='relu', padding='same'))\n",
    "cnn_model.add(BatchNormalization())\n",
    "cnn_model.add(MaxPooling2D(pool_size=(2, 2), strides=(2, 2)))\n",
    "cnn_model.add(Dropout(0.5))\n",
    "\n",
    "cnn_model.add(Conv2D(256, kernel_size=(3, 3), activation='relu', padding='same'))\n",
    "cnn_model.add(BatchNormalization())\n",
    "cnn_model.add(Conv2D(256, kernel_size=(3, 3), activation='relu', padding='same'))\n",
    "cnn_model.add(BatchNormalization())\n",
    "cnn_model.add(MaxPooling2D(pool_size=(2, 2), strides=(2, 2)))\n",
    "cnn_model.add(Dropout(0.5))\n",
    "\n",
    "cnn_model.add(Conv2D(512, kernel_size=(3, 3), activation='relu', padding='same'))\n",
    "cnn_model.add(BatchNormalization())\n",
    "cnn_model.add(Conv2D(512, kernel_size=(3, 3), activation='relu', padding='same'))\n",
    "cnn_model.add(BatchNormalization())\n",
    "cnn_model.add(MaxPooling2D(pool_size=(2, 2), strides=(2, 2)))\n",
    "cnn_model.add(Dropout(0.5))\n",
    "\n",
    "cnn_model.add(Flatten())\n",
    "\n",
    "cnn_model.add(Dense(512, activation='relu'))\n",
    "cnn_model.add(Dropout(0.4))\n",
    "cnn_model.add(Dense(256, activation='relu'))\n",
    "cnn_model.add(Dropout(0.4))\n",
    "cnn_model.add(Dense(128, activation='relu'))\n",
    "cnn_model.add(Dropout(0.5))\n",
    "cnn_model.add(Dense(1, activation = 'sigmoid'))\n"
   ]
  },
  {
   "cell_type": "code",
   "execution_count": 27,
   "id": "e55ed26e",
   "metadata": {},
   "outputs": [
    {
     "name": "stderr",
     "output_type": "stream",
     "text": [
      "WARNING:absl:`lr` is deprecated, please use `learning_rate` instead, or use the legacy optimizer, e.g.,tf.keras.optimizers.legacy.Adam.\n"
     ]
    },
    {
     "name": "stdout",
     "output_type": "stream",
     "text": [
      "Epoch 1/6\n",
      "90/90 [==============================] - ETA: 0s - loss: 463746752.0000 - binary_accuracy: 0.6778\n",
      "Epoch 1: val_loss improved from inf to 871.13934, saving model to best_cnn_model.h5\n",
      "90/90 [==============================] - 28s 288ms/step - loss: 463746752.0000 - binary_accuracy: 0.6778 - val_loss: 871.1393 - val_binary_accuracy: 0.7000\n",
      "Epoch 2/6\n",
      "90/90 [==============================] - ETA: 0s - loss: 646119424.0000 - binary_accuracy: 0.6667\n",
      "Epoch 2: val_loss improved from 871.13934 to 870.62170, saving model to best_cnn_model.h5\n",
      "90/90 [==============================] - 25s 276ms/step - loss: 646119424.0000 - binary_accuracy: 0.6667 - val_loss: 870.6217 - val_binary_accuracy: 0.7000\n",
      "Epoch 3/6\n",
      "90/90 [==============================] - ETA: 0s - loss: 363081184.0000 - binary_accuracy: 0.6667\n",
      "Epoch 3: val_loss improved from 870.62170 to 870.13281, saving model to best_cnn_model.h5\n",
      "90/90 [==============================] - 25s 273ms/step - loss: 363081184.0000 - binary_accuracy: 0.6667 - val_loss: 870.1328 - val_binary_accuracy: 0.7000\n",
      "Epoch 4/6\n",
      "90/90 [==============================] - ETA: 0s - loss: 811682752.0000 - binary_accuracy: 0.6556\n",
      "Epoch 4: val_loss improved from 870.13281 to 869.70978, saving model to best_cnn_model.h5\n",
      "90/90 [==============================] - 25s 279ms/step - loss: 811682752.0000 - binary_accuracy: 0.6556 - val_loss: 869.7098 - val_binary_accuracy: 0.7000\n",
      "Epoch 5/6\n",
      "90/90 [==============================] - ETA: 0s - loss: 2361872128.0000 - binary_accuracy: 0.6556\n",
      "Epoch 5: val_loss improved from 869.70978 to 869.32971, saving model to best_cnn_model.h5\n",
      "90/90 [==============================] - 25s 282ms/step - loss: 2361872128.0000 - binary_accuracy: 0.6556 - val_loss: 869.3297 - val_binary_accuracy: 0.7000\n",
      "Epoch 6/6\n",
      "90/90 [==============================] - ETA: 0s - loss: 1359451392.0000 - binary_accuracy: 0.6556\n",
      "Epoch 6: val_loss improved from 869.32971 to 869.00244, saving model to best_cnn_model.h5\n",
      "90/90 [==============================] - 28s 310ms/step - loss: 1359451392.0000 - binary_accuracy: 0.6556 - val_loss: 869.0024 - val_binary_accuracy: 0.7000\n"
     ]
    }
   ],
   "source": [
    "#Saves the Best Model Based on Val Loss\n",
    "checkpoint = ModelCheckpoint('best_cnn_model.h5', verbose=1, monitor='val_loss',save_best_only=True, mode='auto')  \n",
    "\n",
    "# compliling the model with adam optimizer and categorical crossentropy loss\n",
    "cnn_model.compile(loss=binary_crossentropy, optimizer=Adam(lr=1, beta_1=0.9, beta_2=0.999), metrics=['binary_accuracy'])\n",
    "\n",
    "# training the model\n",
    "cnn_history = cnn_model.fit(train_ds, validation_data = val_ds, batch_size=1, epochs=6, verbose=1, \n",
    "                            callbacks=[checkpoint], shuffle=True)"
   ]
  },
  {
   "cell_type": "code",
   "execution_count": 28,
   "id": "7d2aafcd",
   "metadata": {},
   "outputs": [
    {
     "name": "stdout",
     "output_type": "stream",
     "text": [
      "12/12 [==============================] - 1s 43ms/step - loss: 868.9346 - binary_accuracy: 0.7500\n"
     ]
    }
   ],
   "source": [
    "#@title Instructor Solution\n",
    "cnn_performance = cnn_model.evaluate(test_ds, batch_size=1)"
   ]
  },
  {
   "cell_type": "code",
   "execution_count": 29,
   "id": "84efa104",
   "metadata": {},
   "outputs": [
    {
     "data": {
      "image/png": "[encoded data removed]",
      "text/plain": [
       "<Figure size 1000x400 with 2 Axes>"
      ]
     },
     "metadata": {},
     "output_type": "display_data"
    }
   ],
   "source": [
    "#@title Instructor Solution\n",
    "plot_graphs(cnn_history, cnn_performance)"
   ]
  },
  {
   "cell_type": "code",
   "execution_count": 44,
   "id": "19cc7f48",
   "metadata": {},
   "outputs": [
    {
     "name": "stdout",
     "output_type": "stream",
     "text": [
      "(1, 128, 160, 3)\n",
      "1/1 [==============================] - 0s 57ms/step\n",
      "0.33912891149520874\n",
      "Drunk\n"
     ]
    }
   ],
   "source": [
    "img = cv2.imread(\"C:\\\\Users\\\\jaden\\\\OneDrive\\\\Documents\\\\GitHub\\\\ScienceFair_AI_Models_2023\\\\jpgTrainingData\\\\Test\\\\Drunk\\\\06_tris_2_e_F_24_51_057.jpg\")\n",
    "img = img[None,:]\n",
    "print(img.shape)\n",
    "img = img[:,:,:,0]\n",
    "model_output = cnn_model.predict(img)\n",
    "## model_output = model_output * 100\n",
    "##print(model_output)\n",
    "model_output = float(model_output[0][0])\n",
    "print(model_output)\n",
    "if model_output > 0.5:\n",
    "    print(\"Sober\")\n",
    "elif model_output <= 0.5:\n",
    "    print(\"Drunk\")"
   ]
  },
  {
   "cell_type": "code",
   "execution_count": null,
   "id": "d9cf3d3b",
   "metadata": {},
   "outputs": [],
   "source": []
  }
 ],
 "metadata": {
  "kernelspec": {
   "display_name": "Python 3 (ipykernel)",
   "language": "python",
   "name": "python3"
  },
  "language_info": {
   "codemirror_mode": {
    "name": "ipython",
    "version": 3
   },
   "file_extension": ".py",
   "mimetype": "text/x-python",
   "name": "python",
   "nbconvert_exporter": "python",
   "pygments_lexer": "ipython3",
   "version": "3.9.13"
  }
 },
 "nbformat": 4,
 "nbformat_minor": 5
}
